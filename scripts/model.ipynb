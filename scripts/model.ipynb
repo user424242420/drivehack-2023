{
 "cells": [
  {
   "cell_type": "code",
   "execution_count": 10,
   "id": "initial_id",
   "metadata": {
    "collapsed": true,
    "jupyter": {
     "outputs_hidden": true
    },
    "ExecuteTime": {
     "end_time": "2023-08-25T10:29:04.720004413Z",
     "start_time": "2023-08-25T10:28:57.121765650Z"
    }
   },
   "outputs": [],
   "source": [
    "import sklearn\n",
    "import pandas\n",
    "from sklearn.model_selection import train_test_split\n",
    "import numpy as np\n",
    "\n",
    "df_bandwidth = pandas.read_csv(\"../data/dataset_small_changed.csv\").drop([\"Unnamed: 0\"], axis=1)\n",
    "\n",
    "res_series = df_bandwidth.num_val\n",
    "\n",
    "df_bandwidth = df_bandwidth.drop([\"num_val\"], axis=1)\n",
    "X_train, X_test, y_train, y_test = train_test_split(df_bandwidth, res_series, test_size=0.2, random_state=0)"
   ]
  },
  {
   "cell_type": "code",
   "execution_count": 7,
   "id": "3d8b57df8ceda816",
   "metadata": {
    "ExecuteTime": {
     "end_time": "2023-08-24T07:07:35.211949419Z",
     "start_time": "2023-08-24T07:07:35.184601226Z"
    },
    "collapsed": false
   },
   "outputs": [
    {
     "name": "stdout",
     "output_type": "stream",
     "text": [
      "hour                                 int64\n",
      "type_holiday                         int64\n",
      "number_week                          int64\n",
      "number_year                          int64\n",
      "station_id                           int64\n",
      "line_id                              int64\n",
      "input_doors_total_bandwidth        float64\n",
      "input_turnstile_total_bandwidth    float64\n",
      "input_stairs_total_bandwidth       float64\n",
      "input_escalator_total_bandwidth    float64\n",
      "dtype: object\n"
     ]
    }
   ],
   "source": [
    "print(X_test.dtypes)"
   ]
  },
  {
   "cell_type": "code",
   "execution_count": null,
   "id": "e05df1fe7df1f296",
   "metadata": {
    "ExecuteTime": {
     "start_time": "2023-08-24T07:07:39.339174207Z"
    },
    "collapsed": false
   },
   "outputs": [
    {
     "name": "stderr",
     "output_type": "stream",
     "text": [
      "[Parallel(n_jobs=8)]: Using backend ThreadingBackend with 8 concurrent workers.\n",
      "[Parallel(n_jobs=8)]: Done  34 tasks      | elapsed:  3.2min\n"
     ]
    }
   ],
   "source": [
    "from sklearn.ensemble import RandomForestRegressor\n",
    "\n",
    "model = RandomForestRegressor(n_estimators=100, verbose=True, max_features=None, n_jobs=8, warm_start=True)\n",
    "model.fit(X_train, y_train)"
   ]
  },
  {
   "cell_type": "code",
   "execution_count": null,
   "id": "66b2f5ca121922a0",
   "metadata": {
    "collapsed": false
   },
   "outputs": [],
   "source": [
    "from sklearn.metrics import r2_score\n",
    "\n",
    "print(model.predict(X_test), y_test)\n",
    "print(y_test)\n",
    "score= r2_score(model.predict(X_test), y_test.to_list())\n",
    "print(score)"
   ]
  },
  {
   "cell_type": "code",
   "execution_count": null,
   "id": "c5427a99beadf606",
   "metadata": {
    "collapsed": false
   },
   "outputs": [],
   "source": [
    "from sklearn.metrics import max_error\n",
    "\n",
    "score= max_error(model.predict(X_test), y_test.to_list())\n",
    "print(score)"
   ]
  },
  {
   "cell_type": "code",
   "execution_count": null,
   "id": "edff293c255ad6b8",
   "metadata": {
    "collapsed": false
   },
   "outputs": [],
   "source": [
    "X_test\n"
   ]
  },
  {
   "cell_type": "code",
   "execution_count": 1,
   "id": "3bd7f47a3ded1deb",
   "metadata": {
    "collapsed": false
   },
   "outputs": [
    {
     "data": {
      "application/vnd.jupyter.widget-view+json": {
       "model_id": "b913e5f4360f4210bc6f65ccfb725211",
       "version_major": 2,
       "version_minor": 0
      },
      "text/plain": [
       "IntSlider(value=0)"
      ]
     },
     "metadata": {},
     "output_type": "display_data"
    }
   ],
   "source": [
    "from ipywidgets import IntSlider\n",
    "display(IntSlider())"
   ]
  },
  {
   "cell_type": "code",
   "execution_count": null,
   "id": "9bfaf5c4c211385c",
   "metadata": {
    "collapsed": false,
    "ExecuteTime": {
     "start_time": "2023-08-25T09:46:42.505331956Z"
    }
   },
   "outputs": [
    {
     "data": {
      "text/plain": "MetricVisualizer(layout=Layout(align_self='stretch', height='500px'))",
      "application/vnd.jupyter.widget-view+json": {
       "version_major": 2,
       "version_minor": 0,
       "model_id": "41f3b176c02f48b496eaeb05b859e7ce"
      }
     },
     "metadata": {},
     "output_type": "display_data"
    }
   ],
   "source": [
    "import catboost\n",
    "\n",
    "w = catboost.MetricVisualizer('model/data/kaggle')\n",
    "w.start()"
   ]
  },
  {
   "cell_type": "code",
   "execution_count": 3,
   "id": "b2ea5f454a728e07",
   "metadata": {
    "collapsed": false,
    "ExecuteTime": {
     "end_time": "2023-08-25T10:35:30.376419437Z",
     "start_time": "2023-08-25T10:35:30.243951258Z"
    }
   },
   "outputs": [
    {
     "data": {
      "text/plain": "<catboost.core.CatBoostRegressor at 0x7f5d82ac1f90>"
     },
     "execution_count": 3,
     "metadata": {},
     "output_type": "execute_result"
    }
   ],
   "source": [
    "from catboost import CatBoostRegressor\n",
    "model = CatBoostRegressor()\n",
    "model.load_model(\"/home/user/drivehack/model/out_model.cbm\")"
   ]
  },
  {
   "cell_type": "code",
   "execution_count": 12,
   "id": "54eb340f-6aa9-461e-9427-9f57d54123cb",
   "metadata": {
    "ExecuteTime": {
     "end_time": "2023-08-25T10:29:10.649292157Z",
     "start_time": "2023-08-25T10:29:10.566513798Z"
    }
   },
   "outputs": [
    {
     "data": {
      "text/plain": "hour                               40.276811\ntype_holiday                        2.324887\nnumber_week                         8.777696\nnumber_year                         1.119693\nstation_id                         13.266333\nT                                   0.097729\nU                                   0.146132\nN                                   0.031244\nRRR                                 0.058591\nsss                                 0.147733\nline_id                             1.668799\ninput_doors_total_bandwidth         5.495094\ninput_turnstile_total_bandwidth     5.598721\ninput_stairs_total_bandwidth        3.388142\ninput_escalator_total_bandwidth     2.672935\ncount_people                        9.324334\nparking_count                       5.605125\ndtype: float64"
     },
     "execution_count": 12,
     "metadata": {},
     "output_type": "execute_result"
    }
   ],
   "source": [
    "import pandas as pd\n",
    "import seaborn as sns\n",
    "features = pd.Series(model.get_feature_importance().T, index=\"hour,type_holiday,number_week,number_year,station_id,T,U,N,RRR,sss,line_id,input_doors_total_bandwidth,input_turnstile_total_bandwidth,input_stairs_total_bandwidth,input_escalator_total_bandwidth,count_people,parking_count\".split(\",\"))\n",
    "features\n",
    "# plot = sns.barplot(pd.DataFrame(features)[-5:].T)\n",
    "# fig = plot.get_figure()\n",
    "# fig.savefig(\"/tmp/out.png\") "
   ]
  },
  {
   "cell_type": "code",
   "execution_count": 12,
   "outputs": [],
   "source": [
    "import sklearn\n",
    "import pandas\n",
    "from sklearn.model_selection import train_test_split\n",
    "import numpy as np\n",
    "\n",
    "\n",
    "df_bandwidth_full = pandas.read_csv(\"/home/user/drivehack/model/data/dataset_small_changed.csv\").drop([\"Unnamed: 0\"], axis=1)\n",
    "\n",
    "df_bandwidth_full = df_bandwidth_full[(df_bandwidth_full[\"hour\"] >= 6) | (df_bandwidth_full[\"hour\"] <= 1) | (df_bandwidth_full[\"type_holiday\"] == 0)]\n",
    "res_series = df_bandwidth_full[\"num_val\"]\n",
    "\n",
    "df_bandwidth = df_bandwidth_full.drop([\"num_val\"], axis=1)\n",
    "X_train, X_test, y_train, y_test = train_test_split(df_bandwidth, res_series, test_size=0.05, random_state=0)"
   ],
   "metadata": {
    "collapsed": false,
    "ExecuteTime": {
     "end_time": "2023-08-25T10:53:23.915160612Z",
     "start_time": "2023-08-25T10:53:09.254611365Z"
    }
   },
   "id": "dd0688d0912881c6"
  },
  {
   "cell_type": "code",
   "execution_count": 18,
   "outputs": [
    {
     "name": "stdout",
     "output_type": "stream",
     "text": [
      "Index(['hour', 'type_holiday', 'number_week', 'number_year', 'station_id', 'T',\n",
      "       'U', 'N', 'RRR', 'sss', 'line_id', 'input_doors_total_bandwidth',\n",
      "       'input_turnstile_total_bandwidth', 'input_stairs_total_bandwidth',\n",
      "       'input_escalator_total_bandwidth', 'count_people', 'parking_count'],\n",
      "      dtype='object')\n"
     ]
    },
    {
     "data": {
      "text/html": "        <script type=\"text/javascript\">\n        window.PlotlyConfig = {MathJaxConfig: 'local'};\n        if (window.MathJax && window.MathJax.Hub && window.MathJax.Hub.Config) {window.MathJax.Hub.Config({SVG: {font: \"STIX-Web\"}});}\n        if (typeof require !== 'undefined') {\n        require.undef(\"plotly\");\n        requirejs.config({\n            paths: {\n                'plotly': ['https://cdn.plot.ly/plotly-2.25.2.min']\n            }\n        });\n        require(['plotly'], function(Plotly) {\n            window._Plotly = Plotly;\n        });\n        }\n        </script>\n        "
     },
     "metadata": {},
     "output_type": "display_data"
    },
    {
     "data": {
      "application/vnd.plotly.v1+json": {
       "data": [
        {
         "mode": "lines+markers",
         "name": "Mean target",
         "xaxis": "x",
         "y": [
          756.0379028320312,
          748.9755859375,
          450.4134826660156,
          768.4798583984375,
          749.5350341796875,
          612.0111083984375,
          492.0093078613281,
          641.4674072265625,
          581.6193237304688,
          563.23876953125,
          644.4000244140625,
          678.9931030273438,
          807.4468994140625,
          700.46044921875,
          518.7415771484375,
          714.3536987304688,
          703.1054077148438,
          639.4171752929688,
          573.9562377929688,
          413.7865905761719,
          632.4083251953125,
          457.46484375,
          873.2891235351562,
          491.95977783203125,
          765.1937255859375,
          604.1627807617188,
          620.9035034179688,
          514.0947265625,
          750.6845092773438,
          557.3663330078125,
          536.123779296875,
          708.7139892578125,
          742.8545532226562,
          881.2337646484375,
          766.6649780273438,
          565.9448852539062,
          677.49560546875,
          666.6416015625,
          781.6397094726562,
          611.8086547851562,
          625.901123046875,
          772.4725952148438,
          746.8109130859375,
          645.718505859375,
          620.52587890625,
          759.7510375976562,
          687.4780883789062,
          431.6052551269531,
          661.2153930664062,
          681.853759765625,
          687.10498046875,
          572.27197265625,
          577.854736328125,
          433.4631652832031,
          564.6347045898438,
          633.0616455078125,
          677.7236938476562,
          488.91827392578125,
          727.6405639648438,
          617.6929931640625,
          543.0634155273438,
          658.6862182617188,
          595.8712768554688,
          585.1800537109375,
          541.5149536132812,
          815.587890625,
          680.4879150390625,
          634.7926635742188,
          716.4000244140625,
          786.5945434570312,
          714.644287109375,
          497.93084716796875,
          874.3592529296875,
          700.72314453125,
          762.8035888671875,
          674.7479248046875,
          518.1196899414062,
          590.2660522460938,
          449.0435485839844,
          705.20068359375,
          446.18792724609375,
          958.7299194335938,
          611.2168579101562,
          505.4664611816406,
          664.94775390625,
          709.7821655273438,
          761.1666870117188,
          671.38525390625,
          364.7835693359375,
          543.0761108398438,
          809.1585693359375,
          718.4284057617188,
          674.2743530273438,
          659.454345703125,
          637.4837646484375,
          709.2915649414062,
          688.00390625,
          514.8377685546875,
          698.8468627929688,
          565.9332275390625,
          853.1405029296875,
          610.412841796875,
          594.196044921875,
          644.0068969726562,
          736.5599365234375,
          734.9339599609375,
          735.4494018554688,
          837.0056762695312,
          867.2177124023438,
          958.6368408203125,
          703.8350830078125,
          923.1611328125,
          817.7450561523438,
          729.768310546875,
          818.1947021484375,
          870.0775146484375,
          816.7313842773438,
          802.4725952148438,
          666.1119995117188,
          793.429443359375,
          878.3399047851562,
          1045.6002197265625,
          776.6027221679688,
          728.622802734375,
          880.0146484375,
          913.3572387695312,
          785.5,
          857.8499755859375,
          787.9041748046875
         ],
         "yaxis": "y",
         "type": "scatter"
        },
        {
         "line": {
          "dash": "dash"
         },
         "mode": "lines+markers",
         "name": "Mean prediction on each segment of feature values",
         "xaxis": "x",
         "y": [
          756.4498901367188,
          787.6025390625,
          461.9056091308594,
          768.9894409179688,
          757.0394287109375,
          608.2390747070312,
          570.0511474609375,
          652.345947265625,
          600.8283081054688,
          592.864501953125,
          667.2748413085938,
          739.5802612304688,
          803.51611328125,
          698.5836181640625,
          535.3013305664062,
          725.9740600585938,
          710.99853515625,
          701.1678466796875,
          622.0902099609375,
          456.3018493652344,
          714.8988037109375,
          519.9757080078125,
          912.8190307617188,
          495.6299133300781,
          782.3969116210938,
          615.966796875,
          653.8326416015625,
          556.4017944335938,
          799.5852661132812,
          633.4179077148438,
          564.802978515625,
          689.093994140625,
          786.819091796875,
          910.6231689453125,
          784.6519165039062,
          600.910888671875,
          710.8820190429688,
          700.4105224609375,
          821.4544067382812,
          655.151611328125,
          643.5222778320312,
          776.326904296875,
          801.7435302734375,
          693.3582763671875,
          658.2124633789062,
          773.2427368164062,
          749.0923461914062,
          518.5017700195312,
          748.6355590820312,
          709.8779296875,
          726.9824829101562,
          606.9281005859375,
          615.9539184570312,
          482.852294921875,
          614.7764282226562,
          634.4974365234375,
          735.3968505859375,
          531.07763671875,
          784.0127563476562,
          638.2273559570312,
          535.5451049804688,
          689.24658203125,
          617.4092407226562,
          587.5092163085938,
          564.5467529296875,
          822.5833740234375,
          713.0150756835938,
          684.55126953125,
          742.7384643554688,
          838.1510620117188,
          750.3526000976562,
          512.0626831054688,
          885.2745971679688,
          816.5564575195312,
          829.66748046875,
          680.517578125,
          535.0338134765625,
          644.0653076171875,
          481.1358337402344,
          709.1986083984375,
          458.9895935058594,
          969.9497680664062,
          610.0675659179688,
          548.861083984375,
          677.12890625,
          743.434814453125,
          789.3865356445312,
          708.6264038085938,
          410.1990051269531,
          583.3784790039062,
          822.52783203125,
          717.2820434570312,
          716.5172119140625,
          651.254150390625,
          659.1665649414062,
          763.364501953125,
          688.3988647460938,
          535.7916259765625,
          752.2379150390625,
          558.1102294921875,
          877.6134643554688,
          609.4290161132812,
          599.9451293945312,
          653.395751953125,
          794.83544921875,
          746.744384765625,
          730.6078491210938,
          831.1730346679688,
          880.98828125,
          927.9075927734375,
          715.6537475585938,
          912.9437866210938,
          831.6903076171875,
          750.4686889648438,
          815.5975341796875,
          889.6780395507812,
          800.81103515625,
          794.3635864257812,
          673.5928344726562,
          822.1266479492188,
          857.676025390625,
          1032.8734130859375,
          812.7999877929688,
          745.1629638671875,
          861.424072265625,
          879.7069702148438,
          763.9505615234375,
          897.760498046875,
          781.0272827148438
         ],
         "yaxis": "y",
         "type": "scatter"
        },
        {
         "marker": {
          "color": "rgba(30, 150, 30, 0.4)"
         },
         "name": "Objects per bin",
         "width": 0.8,
         "xaxis": "x",
         "y": [
          897,
          860,
          994,
          744,
          899,
          810,
          859,
          890,
          964,
          758,
          855,
          872,
          857,
          834,
          743,
          1046,
          854,
          978,
          845,
          909,
          867,
          583,
          972,
          870,
          1022,
          639,
          891,
          739,
          672,
          969,
          711,
          972,
          873,
          723,
          991,
          853,
          906,
          971,
          755,
          1087,
          789,
          821,
          825,
          714,
          793,
          964,
          1050,
          836,
          1012,
          889,
          1019,
          820,
          840,
          801,
          876,
          860,
          713,
          979,
          971,
          1000,
          930,
          647,
          808,
          711,
          837,
          990,
          787,
          897,
          995,
          772,
          1147,
          535,
          785,
          921,
          611,
          611,
          660,
          1011,
          574,
          842,
          894,
          748,
          950,
          954,
          708,
          785,
          828,
          976,
          1035,
          867,
          763,
          859,
          842,
          953,
          585,
          662,
          765,
          567,
          849,
          689,
          975,
          872,
          954,
          870,
          934,
          727,
          850,
          705,
          666,
          548,
          958,
          695,
          1012,
          587,
          945,
          748,
          685,
          766,
          884,
          822,
          709,
          798,
          584,
          692,
          886,
          781,
          822,
          780,
          762
         ],
         "yaxis": "y2",
         "type": "bar"
        },
        {
         "line": {
          "dash": "dashdot"
         },
         "mode": "lines+markers",
         "name": "Mean prediction with substituted feature",
         "xaxis": "x",
         "y": [
          765.421214551989,
          735.4568040817351,
          731.0697679657111,
          729.5974689049748,
          708.3613239584305,
          705.656942307029,
          702.290497187735,
          703.2466946268038,
          702.9894057082681,
          702.9342808307508,
          703.2029951160807,
          702.8007434652187,
          702.3166890642259,
          702.4376436358037,
          701.6483386794837,
          699.5737179938141,
          698.6708109483511,
          697.6599612297194,
          697.4450492636391,
          697.377342484468,
          696.8219536967093,
          696.7757897277664,
          697.1410696396536,
          696.6619917567426,
          696.6343652572044,
          696.5388756793564,
          696.5155448781757,
          696.9472413275206,
          697.0825058697463,
          697.2129917819892,
          697.9065325865909,
          698.4438886165357,
          698.5891790973901,
          699.0160859136336,
          699.05585364437,
          698.7438053069046,
          698.7085720666489,
          699.0272852416019,
          698.9485865944403,
          698.9178415442273,
          698.85035110581,
          698.7567126730476,
          698.7276022187946,
          698.721293004282,
          697.3363539666441,
          697.548528462137,
          697.8193880135417,
          698.6438235158262,
          698.7748099754848,
          699.8228873249104,
          699.9576535521919,
          700.0919282663483,
          696.9836438057614,
          700.4572945912212,
          700.5310211662722,
          700.6514545160145,
          700.9921677159787,
          701.2141265620803,
          701.336835845935,
          701.469963158667,
          701.5191732516305,
          701.5415443217164,
          701.6035024482705,
          701.5725763547393,
          702.0855970101312,
          701.3899717290761,
          701.268035283754,
          701.1666716775949,
          700.8758377708199,
          701.0693739672107,
          701.2550820026519,
          701.0305407595368,
          701.204437809624,
          701.2795486576861,
          701.7473905038981,
          701.842117971903,
          701.6290022493282,
          701.6025589498697,
          701.618607697216,
          701.6350565093664,
          701.6541785933679,
          701.6597307059877,
          701.7981091389429,
          701.749090629417,
          701.672729573607,
          701.5047693719489,
          701.4807022142389,
          701.935742348723,
          701.840750798952,
          701.9214838874187,
          702.2723512155314,
          702.4411266686559,
          702.5628993394434,
          702.6378402312822,
          703.3845585690299,
          703.3188966004592,
          703.1014081386293,
          703.0133559853838,
          702.5647729037638,
          702.6249148780944,
          703.5990807363287,
          703.5670164820446,
          703.8166038398994,
          703.7875704894639,
          704.4046481531013,
          704.2743104913583,
          704.1447357427551,
          703.7929538434446,
          703.3435692725296,
          704.1382799462291,
          706.2599457043649,
          706.7916857689893,
          706.1802106790034,
          705.905654645537,
          706.1587852416574,
          705.0016815460906,
          705.2017713264058,
          705.0692341199652,
          706.9720239921044,
          707.7519085202161,
          706.2714774463012,
          711.105448716248,
          695.5116437279278,
          698.9019262708672,
          699.9414885602329,
          701.3088836235326,
          701.3203230080549,
          704.5318895082854,
          704.5360440398277
         ],
         "yaxis": "y",
         "type": "scatter"
        }
       ],
       "layout": {
        "annotations": [
         {
          "align": "left",
          "showarrow": false,
          "text": "Statistics for feature",
          "x": 0,
          "xref": "paper",
          "y": 1.05,
          "yref": "paper"
         }
        ],
        "legend": {
         "bgcolor": "rgba(0,0,0,0)",
         "x": 1.07
        },
        "template": {
         "data": {
          "barpolar": [
           {
            "marker": {
             "line": {
              "color": "#E5ECF6",
              "width": 0.5
             },
             "pattern": {
              "fillmode": "overlay",
              "size": 10,
              "solidity": 0.2
             }
            },
            "type": "barpolar"
           }
          ],
          "bar": [
           {
            "error_x": {
             "color": "#2a3f5f"
            },
            "error_y": {
             "color": "#2a3f5f"
            },
            "marker": {
             "line": {
              "color": "#E5ECF6",
              "width": 0.5
             },
             "pattern": {
              "fillmode": "overlay",
              "size": 10,
              "solidity": 0.2
             }
            },
            "type": "bar"
           }
          ],
          "carpet": [
           {
            "aaxis": {
             "endlinecolor": "#2a3f5f",
             "gridcolor": "white",
             "linecolor": "white",
             "minorgridcolor": "white",
             "startlinecolor": "#2a3f5f"
            },
            "baxis": {
             "endlinecolor": "#2a3f5f",
             "gridcolor": "white",
             "linecolor": "white",
             "minorgridcolor": "white",
             "startlinecolor": "#2a3f5f"
            },
            "type": "carpet"
           }
          ],
          "choropleth": [
           {
            "colorbar": {
             "outlinewidth": 0,
             "ticks": ""
            },
            "type": "choropleth"
           }
          ],
          "contourcarpet": [
           {
            "colorbar": {
             "outlinewidth": 0,
             "ticks": ""
            },
            "type": "contourcarpet"
           }
          ],
          "contour": [
           {
            "colorbar": {
             "outlinewidth": 0,
             "ticks": ""
            },
            "colorscale": [
             [
              0.0,
              "#0d0887"
             ],
             [
              0.1111111111111111,
              "#46039f"
             ],
             [
              0.2222222222222222,
              "#7201a8"
             ],
             [
              0.3333333333333333,
              "#9c179e"
             ],
             [
              0.4444444444444444,
              "#bd3786"
             ],
             [
              0.5555555555555556,
              "#d8576b"
             ],
             [
              0.6666666666666666,
              "#ed7953"
             ],
             [
              0.7777777777777778,
              "#fb9f3a"
             ],
             [
              0.8888888888888888,
              "#fdca26"
             ],
             [
              1.0,
              "#f0f921"
             ]
            ],
            "type": "contour"
           }
          ],
          "heatmapgl": [
           {
            "colorbar": {
             "outlinewidth": 0,
             "ticks": ""
            },
            "colorscale": [
             [
              0.0,
              "#0d0887"
             ],
             [
              0.1111111111111111,
              "#46039f"
             ],
             [
              0.2222222222222222,
              "#7201a8"
             ],
             [
              0.3333333333333333,
              "#9c179e"
             ],
             [
              0.4444444444444444,
              "#bd3786"
             ],
             [
              0.5555555555555556,
              "#d8576b"
             ],
             [
              0.6666666666666666,
              "#ed7953"
             ],
             [
              0.7777777777777778,
              "#fb9f3a"
             ],
             [
              0.8888888888888888,
              "#fdca26"
             ],
             [
              1.0,
              "#f0f921"
             ]
            ],
            "type": "heatmapgl"
           }
          ],
          "heatmap": [
           {
            "colorbar": {
             "outlinewidth": 0,
             "ticks": ""
            },
            "colorscale": [
             [
              0.0,
              "#0d0887"
             ],
             [
              0.1111111111111111,
              "#46039f"
             ],
             [
              0.2222222222222222,
              "#7201a8"
             ],
             [
              0.3333333333333333,
              "#9c179e"
             ],
             [
              0.4444444444444444,
              "#bd3786"
             ],
             [
              0.5555555555555556,
              "#d8576b"
             ],
             [
              0.6666666666666666,
              "#ed7953"
             ],
             [
              0.7777777777777778,
              "#fb9f3a"
             ],
             [
              0.8888888888888888,
              "#fdca26"
             ],
             [
              1.0,
              "#f0f921"
             ]
            ],
            "type": "heatmap"
           }
          ],
          "histogram2dcontour": [
           {
            "colorbar": {
             "outlinewidth": 0,
             "ticks": ""
            },
            "colorscale": [
             [
              0.0,
              "#0d0887"
             ],
             [
              0.1111111111111111,
              "#46039f"
             ],
             [
              0.2222222222222222,
              "#7201a8"
             ],
             [
              0.3333333333333333,
              "#9c179e"
             ],
             [
              0.4444444444444444,
              "#bd3786"
             ],
             [
              0.5555555555555556,
              "#d8576b"
             ],
             [
              0.6666666666666666,
              "#ed7953"
             ],
             [
              0.7777777777777778,
              "#fb9f3a"
             ],
             [
              0.8888888888888888,
              "#fdca26"
             ],
             [
              1.0,
              "#f0f921"
             ]
            ],
            "type": "histogram2dcontour"
           }
          ],
          "histogram2d": [
           {
            "colorbar": {
             "outlinewidth": 0,
             "ticks": ""
            },
            "colorscale": [
             [
              0.0,
              "#0d0887"
             ],
             [
              0.1111111111111111,
              "#46039f"
             ],
             [
              0.2222222222222222,
              "#7201a8"
             ],
             [
              0.3333333333333333,
              "#9c179e"
             ],
             [
              0.4444444444444444,
              "#bd3786"
             ],
             [
              0.5555555555555556,
              "#d8576b"
             ],
             [
              0.6666666666666666,
              "#ed7953"
             ],
             [
              0.7777777777777778,
              "#fb9f3a"
             ],
             [
              0.8888888888888888,
              "#fdca26"
             ],
             [
              1.0,
              "#f0f921"
             ]
            ],
            "type": "histogram2d"
           }
          ],
          "histogram": [
           {
            "marker": {
             "pattern": {
              "fillmode": "overlay",
              "size": 10,
              "solidity": 0.2
             }
            },
            "type": "histogram"
           }
          ],
          "mesh3d": [
           {
            "colorbar": {
             "outlinewidth": 0,
             "ticks": ""
            },
            "type": "mesh3d"
           }
          ],
          "parcoords": [
           {
            "line": {
             "colorbar": {
              "outlinewidth": 0,
              "ticks": ""
             }
            },
            "type": "parcoords"
           }
          ],
          "pie": [
           {
            "automargin": true,
            "type": "pie"
           }
          ],
          "scatter3d": [
           {
            "line": {
             "colorbar": {
              "outlinewidth": 0,
              "ticks": ""
             }
            },
            "marker": {
             "colorbar": {
              "outlinewidth": 0,
              "ticks": ""
             }
            },
            "type": "scatter3d"
           }
          ],
          "scattercarpet": [
           {
            "marker": {
             "colorbar": {
              "outlinewidth": 0,
              "ticks": ""
             }
            },
            "type": "scattercarpet"
           }
          ],
          "scattergeo": [
           {
            "marker": {
             "colorbar": {
              "outlinewidth": 0,
              "ticks": ""
             }
            },
            "type": "scattergeo"
           }
          ],
          "scattergl": [
           {
            "marker": {
             "colorbar": {
              "outlinewidth": 0,
              "ticks": ""
             }
            },
            "type": "scattergl"
           }
          ],
          "scattermapbox": [
           {
            "marker": {
             "colorbar": {
              "outlinewidth": 0,
              "ticks": ""
             }
            },
            "type": "scattermapbox"
           }
          ],
          "scatterpolargl": [
           {
            "marker": {
             "colorbar": {
              "outlinewidth": 0,
              "ticks": ""
             }
            },
            "type": "scatterpolargl"
           }
          ],
          "scatterpolar": [
           {
            "marker": {
             "colorbar": {
              "outlinewidth": 0,
              "ticks": ""
             }
            },
            "type": "scatterpolar"
           }
          ],
          "scatter": [
           {
            "fillpattern": {
             "fillmode": "overlay",
             "size": 10,
             "solidity": 0.2
            },
            "type": "scatter"
           }
          ],
          "scatterternary": [
           {
            "marker": {
             "colorbar": {
              "outlinewidth": 0,
              "ticks": ""
             }
            },
            "type": "scatterternary"
           }
          ],
          "surface": [
           {
            "colorbar": {
             "outlinewidth": 0,
             "ticks": ""
            },
            "colorscale": [
             [
              0.0,
              "#0d0887"
             ],
             [
              0.1111111111111111,
              "#46039f"
             ],
             [
              0.2222222222222222,
              "#7201a8"
             ],
             [
              0.3333333333333333,
              "#9c179e"
             ],
             [
              0.4444444444444444,
              "#bd3786"
             ],
             [
              0.5555555555555556,
              "#d8576b"
             ],
             [
              0.6666666666666666,
              "#ed7953"
             ],
             [
              0.7777777777777778,
              "#fb9f3a"
             ],
             [
              0.8888888888888888,
              "#fdca26"
             ],
             [
              1.0,
              "#f0f921"
             ]
            ],
            "type": "surface"
           }
          ],
          "table": [
           {
            "cells": {
             "fill": {
              "color": "#EBF0F8"
             },
             "line": {
              "color": "white"
             }
            },
            "header": {
             "fill": {
              "color": "#C8D4E3"
             },
             "line": {
              "color": "white"
             }
            },
            "type": "table"
           }
          ]
         },
         "layout": {
          "annotationdefaults": {
           "arrowcolor": "#2a3f5f",
           "arrowhead": 0,
           "arrowwidth": 1
          },
          "autotypenumbers": "strict",
          "coloraxis": {
           "colorbar": {
            "outlinewidth": 0,
            "ticks": ""
           }
          },
          "colorscale": {
           "diverging": [
            [
             0,
             "#8e0152"
            ],
            [
             0.1,
             "#c51b7d"
            ],
            [
             0.2,
             "#de77ae"
            ],
            [
             0.3,
             "#f1b6da"
            ],
            [
             0.4,
             "#fde0ef"
            ],
            [
             0.5,
             "#f7f7f7"
            ],
            [
             0.6,
             "#e6f5d0"
            ],
            [
             0.7,
             "#b8e186"
            ],
            [
             0.8,
             "#7fbc41"
            ],
            [
             0.9,
             "#4d9221"
            ],
            [
             1,
             "#276419"
            ]
           ],
           "sequential": [
            [
             0.0,
             "#0d0887"
            ],
            [
             0.1111111111111111,
             "#46039f"
            ],
            [
             0.2222222222222222,
             "#7201a8"
            ],
            [
             0.3333333333333333,
             "#9c179e"
            ],
            [
             0.4444444444444444,
             "#bd3786"
            ],
            [
             0.5555555555555556,
             "#d8576b"
            ],
            [
             0.6666666666666666,
             "#ed7953"
            ],
            [
             0.7777777777777778,
             "#fb9f3a"
            ],
            [
             0.8888888888888888,
             "#fdca26"
            ],
            [
             1.0,
             "#f0f921"
            ]
           ],
           "sequentialminus": [
            [
             0.0,
             "#0d0887"
            ],
            [
             0.1111111111111111,
             "#46039f"
            ],
            [
             0.2222222222222222,
             "#7201a8"
            ],
            [
             0.3333333333333333,
             "#9c179e"
            ],
            [
             0.4444444444444444,
             "#bd3786"
            ],
            [
             0.5555555555555556,
             "#d8576b"
            ],
            [
             0.6666666666666666,
             "#ed7953"
            ],
            [
             0.7777777777777778,
             "#fb9f3a"
            ],
            [
             0.8888888888888888,
             "#fdca26"
            ],
            [
             1.0,
             "#f0f921"
            ]
           ]
          },
          "colorway": [
           "#636efa",
           "#EF553B",
           "#00cc96",
           "#ab63fa",
           "#FFA15A",
           "#19d3f3",
           "#FF6692",
           "#B6E880",
           "#FF97FF",
           "#FECB52"
          ],
          "font": {
           "color": "#2a3f5f"
          },
          "geo": {
           "bgcolor": "white",
           "lakecolor": "white",
           "landcolor": "#E5ECF6",
           "showlakes": true,
           "showland": true,
           "subunitcolor": "white"
          },
          "hoverlabel": {
           "align": "left"
          },
          "hovermode": "closest",
          "mapbox": {
           "style": "light"
          },
          "paper_bgcolor": "white",
          "plot_bgcolor": "#E5ECF6",
          "polar": {
           "angularaxis": {
            "gridcolor": "white",
            "linecolor": "white",
            "ticks": ""
           },
           "bgcolor": "#E5ECF6",
           "radialaxis": {
            "gridcolor": "white",
            "linecolor": "white",
            "ticks": ""
           }
          },
          "scene": {
           "xaxis": {
            "backgroundcolor": "#E5ECF6",
            "gridcolor": "white",
            "gridwidth": 2,
            "linecolor": "white",
            "showbackground": true,
            "ticks": "",
            "zerolinecolor": "white"
           },
           "yaxis": {
            "backgroundcolor": "#E5ECF6",
            "gridcolor": "white",
            "gridwidth": 2,
            "linecolor": "white",
            "showbackground": true,
            "ticks": "",
            "zerolinecolor": "white"
           },
           "zaxis": {
            "backgroundcolor": "#E5ECF6",
            "gridcolor": "white",
            "gridwidth": 2,
            "linecolor": "white",
            "showbackground": true,
            "ticks": "",
            "zerolinecolor": "white"
           }
          },
          "shapedefaults": {
           "line": {
            "color": "#2a3f5f"
           }
          },
          "ternary": {
           "aaxis": {
            "gridcolor": "white",
            "linecolor": "white",
            "ticks": ""
           },
           "baxis": {
            "gridcolor": "white",
            "linecolor": "white",
            "ticks": ""
           },
           "bgcolor": "#E5ECF6",
           "caxis": {
            "gridcolor": "white",
            "linecolor": "white",
            "ticks": ""
           }
          },
          "title": {
           "x": 0.05
          },
          "xaxis": {
           "automargin": true,
           "gridcolor": "white",
           "linecolor": "white",
           "ticks": "",
           "title": {
            "standoff": 15
           },
           "zerolinecolor": "white",
           "zerolinewidth": 2
          },
          "yaxis": {
           "automargin": true,
           "gridcolor": "white",
           "linecolor": "white",
           "ticks": "",
           "title": {
            "standoff": 15
           },
           "zerolinecolor": "white",
           "zerolinewidth": 2
          }
         }
        },
        "updatemenus": [
         {
          "buttons": [
           {
            "args": [
             {
              "y": [
               [
                756.0379028320312,
                748.9755859375,
                450.4134826660156,
                768.4798583984375,
                749.5350341796875,
                612.0111083984375,
                492.0093078613281,
                641.4674072265625,
                581.6193237304688,
                563.23876953125,
                644.4000244140625,
                678.9931030273438,
                807.4468994140625,
                700.46044921875,
                518.7415771484375,
                714.3536987304688,
                703.1054077148438,
                639.4171752929688,
                573.9562377929688,
                413.7865905761719,
                632.4083251953125,
                457.46484375,
                873.2891235351562,
                491.95977783203125,
                765.1937255859375,
                604.1627807617188,
                620.9035034179688,
                514.0947265625,
                750.6845092773438,
                557.3663330078125,
                536.123779296875,
                708.7139892578125,
                742.8545532226562,
                881.2337646484375,
                766.6649780273438,
                565.9448852539062,
                677.49560546875,
                666.6416015625,
                781.6397094726562,
                611.8086547851562,
                625.901123046875,
                772.4725952148438,
                746.8109130859375,
                645.718505859375,
                620.52587890625,
                759.7510375976562,
                687.4780883789062,
                431.6052551269531,
                661.2153930664062,
                681.853759765625,
                687.10498046875,
                572.27197265625,
                577.854736328125,
                433.4631652832031,
                564.6347045898438,
                633.0616455078125,
                677.7236938476562,
                488.91827392578125,
                727.6405639648438,
                617.6929931640625,
                543.0634155273438,
                658.6862182617188,
                595.8712768554688,
                585.1800537109375,
                541.5149536132812,
                815.587890625,
                680.4879150390625,
                634.7926635742188,
                716.4000244140625,
                786.5945434570312,
                714.644287109375,
                497.93084716796875,
                874.3592529296875,
                700.72314453125,
                762.8035888671875,
                674.7479248046875,
                518.1196899414062,
                590.2660522460938,
                449.0435485839844,
                705.20068359375,
                446.18792724609375,
                958.7299194335938,
                611.2168579101562,
                505.4664611816406,
                664.94775390625,
                709.7821655273438,
                761.1666870117188,
                671.38525390625,
                364.7835693359375,
                543.0761108398438,
                809.1585693359375,
                718.4284057617188,
                674.2743530273438,
                659.454345703125,
                637.4837646484375,
                709.2915649414062,
                688.00390625,
                514.8377685546875,
                698.8468627929688,
                565.9332275390625,
                853.1405029296875,
                610.412841796875,
                594.196044921875,
                644.0068969726562,
                736.5599365234375,
                734.9339599609375,
                735.4494018554688,
                837.0056762695312,
                867.2177124023438,
                958.6368408203125,
                703.8350830078125,
                923.1611328125,
                817.7450561523438,
                729.768310546875,
                818.1947021484375,
                870.0775146484375,
                816.7313842773438,
                802.4725952148438,
                666.1119995117188,
                793.429443359375,
                878.3399047851562,
                1045.6002197265625,
                776.6027221679688,
                728.622802734375,
                880.0146484375,
                913.3572387695312,
                785.5,
                857.8499755859375,
                787.9041748046875
               ],
               [
                756.4498901367188,
                787.6025390625,
                461.9056091308594,
                768.9894409179688,
                757.0394287109375,
                608.2390747070312,
                570.0511474609375,
                652.345947265625,
                600.8283081054688,
                592.864501953125,
                667.2748413085938,
                739.5802612304688,
                803.51611328125,
                698.5836181640625,
                535.3013305664062,
                725.9740600585938,
                710.99853515625,
                701.1678466796875,
                622.0902099609375,
                456.3018493652344,
                714.8988037109375,
                519.9757080078125,
                912.8190307617188,
                495.6299133300781,
                782.3969116210938,
                615.966796875,
                653.8326416015625,
                556.4017944335938,
                799.5852661132812,
                633.4179077148438,
                564.802978515625,
                689.093994140625,
                786.819091796875,
                910.6231689453125,
                784.6519165039062,
                600.910888671875,
                710.8820190429688,
                700.4105224609375,
                821.4544067382812,
                655.151611328125,
                643.5222778320312,
                776.326904296875,
                801.7435302734375,
                693.3582763671875,
                658.2124633789062,
                773.2427368164062,
                749.0923461914062,
                518.5017700195312,
                748.6355590820312,
                709.8779296875,
                726.9824829101562,
                606.9281005859375,
                615.9539184570312,
                482.852294921875,
                614.7764282226562,
                634.4974365234375,
                735.3968505859375,
                531.07763671875,
                784.0127563476562,
                638.2273559570312,
                535.5451049804688,
                689.24658203125,
                617.4092407226562,
                587.5092163085938,
                564.5467529296875,
                822.5833740234375,
                713.0150756835938,
                684.55126953125,
                742.7384643554688,
                838.1510620117188,
                750.3526000976562,
                512.0626831054688,
                885.2745971679688,
                816.5564575195312,
                829.66748046875,
                680.517578125,
                535.0338134765625,
                644.0653076171875,
                481.1358337402344,
                709.1986083984375,
                458.9895935058594,
                969.9497680664062,
                610.0675659179688,
                548.861083984375,
                677.12890625,
                743.434814453125,
                789.3865356445312,
                708.6264038085938,
                410.1990051269531,
                583.3784790039062,
                822.52783203125,
                717.2820434570312,
                716.5172119140625,
                651.254150390625,
                659.1665649414062,
                763.364501953125,
                688.3988647460938,
                535.7916259765625,
                752.2379150390625,
                558.1102294921875,
                877.6134643554688,
                609.4290161132812,
                599.9451293945312,
                653.395751953125,
                794.83544921875,
                746.744384765625,
                730.6078491210938,
                831.1730346679688,
                880.98828125,
                927.9075927734375,
                715.6537475585938,
                912.9437866210938,
                831.6903076171875,
                750.4686889648438,
                815.5975341796875,
                889.6780395507812,
                800.81103515625,
                794.3635864257812,
                673.5928344726562,
                822.1266479492188,
                857.676025390625,
                1032.8734130859375,
                812.7999877929688,
                745.1629638671875,
                861.424072265625,
                879.7069702148438,
                763.9505615234375,
                897.760498046875,
                781.0272827148438
               ],
               [
                897,
                860,
                994,
                744,
                899,
                810,
                859,
                890,
                964,
                758,
                855,
                872,
                857,
                834,
                743,
                1046,
                854,
                978,
                845,
                909,
                867,
                583,
                972,
                870,
                1022,
                639,
                891,
                739,
                672,
                969,
                711,
                972,
                873,
                723,
                991,
                853,
                906,
                971,
                755,
                1087,
                789,
                821,
                825,
                714,
                793,
                964,
                1050,
                836,
                1012,
                889,
                1019,
                820,
                840,
                801,
                876,
                860,
                713,
                979,
                971,
                1000,
                930,
                647,
                808,
                711,
                837,
                990,
                787,
                897,
                995,
                772,
                1147,
                535,
                785,
                921,
                611,
                611,
                660,
                1011,
                574,
                842,
                894,
                748,
                950,
                954,
                708,
                785,
                828,
                976,
                1035,
                867,
                763,
                859,
                842,
                953,
                585,
                662,
                765,
                567,
                849,
                689,
                975,
                872,
                954,
                870,
                934,
                727,
                850,
                705,
                666,
                548,
                958,
                695,
                1012,
                587,
                945,
                748,
                685,
                766,
                884,
                822,
                709,
                798,
                584,
                692,
                886,
                781,
                822,
                780,
                762
               ],
               [
                765.421214551989,
                735.4568040817351,
                731.0697679657111,
                729.5974689049748,
                708.3613239584305,
                705.656942307029,
                702.290497187735,
                703.2466946268038,
                702.9894057082681,
                702.9342808307508,
                703.2029951160807,
                702.8007434652187,
                702.3166890642259,
                702.4376436358037,
                701.6483386794837,
                699.5737179938141,
                698.6708109483511,
                697.6599612297194,
                697.4450492636391,
                697.377342484468,
                696.8219536967093,
                696.7757897277664,
                697.1410696396536,
                696.6619917567426,
                696.6343652572044,
                696.5388756793564,
                696.5155448781757,
                696.9472413275206,
                697.0825058697463,
                697.2129917819892,
                697.9065325865909,
                698.4438886165357,
                698.5891790973901,
                699.0160859136336,
                699.05585364437,
                698.7438053069046,
                698.7085720666489,
                699.0272852416019,
                698.9485865944403,
                698.9178415442273,
                698.85035110581,
                698.7567126730476,
                698.7276022187946,
                698.721293004282,
                697.3363539666441,
                697.548528462137,
                697.8193880135417,
                698.6438235158262,
                698.7748099754848,
                699.8228873249104,
                699.9576535521919,
                700.0919282663483,
                696.9836438057614,
                700.4572945912212,
                700.5310211662722,
                700.6514545160145,
                700.9921677159787,
                701.2141265620803,
                701.336835845935,
                701.469963158667,
                701.5191732516305,
                701.5415443217164,
                701.6035024482705,
                701.5725763547393,
                702.0855970101312,
                701.3899717290761,
                701.268035283754,
                701.1666716775949,
                700.8758377708199,
                701.0693739672107,
                701.2550820026519,
                701.0305407595368,
                701.204437809624,
                701.2795486576861,
                701.7473905038981,
                701.842117971903,
                701.6290022493282,
                701.6025589498697,
                701.618607697216,
                701.6350565093664,
                701.6541785933679,
                701.6597307059877,
                701.7981091389429,
                701.749090629417,
                701.672729573607,
                701.5047693719489,
                701.4807022142389,
                701.935742348723,
                701.840750798952,
                701.9214838874187,
                702.2723512155314,
                702.4411266686559,
                702.5628993394434,
                702.6378402312822,
                703.3845585690299,
                703.3188966004592,
                703.1014081386293,
                703.0133559853838,
                702.5647729037638,
                702.6249148780944,
                703.5990807363287,
                703.5670164820446,
                703.8166038398994,
                703.7875704894639,
                704.4046481531013,
                704.2743104913583,
                704.1447357427551,
                703.7929538434446,
                703.3435692725296,
                704.1382799462291,
                706.2599457043649,
                706.7916857689893,
                706.1802106790034,
                705.905654645537,
                706.1587852416574,
                705.0016815460906,
                705.2017713264058,
                705.0692341199652,
                706.9720239921044,
                707.7519085202161,
                706.2714774463012,
                711.105448716248,
                695.5116437279278,
                698.9019262708672,
                699.9414885602329,
                701.3088836235326,
                701.3203230080549,
                704.5318895082854,
                704.5360440398277
               ]
              ]
             },
             {
              "xaxis": {
               "showticklabels": false,
               "tickmode": "array",
               "ticktext": [
                "(-inf, -19.5000]",
                "(-19.5000, -14.2500]",
                "(-14.2500, -11.9500]",
                "(-11.9500, -10.4500]",
                "(-10.4500, -9.0000]",
                "(-9.0000, -8.5500]",
                "(-8.5500, -7.9500]",
                "(-7.9500, -7.3000]",
                "(-7.3000, -6.6500]",
                "(-6.6500, -6.1500]",
                "(-6.1500, -5.4500]",
                "(-5.4500, -5.0500]",
                "(-5.0500, -4.8500]",
                "(-4.8500, -4.2500]",
                "(-4.2500, -3.9500]",
                "(-3.9500, -3.6500]",
                "(-3.6500, -3.2500]",
                "(-3.2500, -2.9500]",
                "(-2.9500, -2.8500]",
                "(-2.8500, -2.6500]",
                "(-2.6500, -2.5500]",
                "(-2.5500, -2.3500]",
                "(-2.3500, -2.1500]",
                "(-2.1500, -1.9500]",
                "(-1.9500, -1.7500]",
                "(-1.7500, -1.5500]",
                "(-1.5500, -1.4500]",
                "(-1.4500, -1.2500]",
                "(-1.2500, -1.0500]",
                "(-1.0500, -0.8500]",
                "(-0.8500, -0.6500]",
                "(-0.6500, -0.4500]",
                "(-0.4500, -0.1500]",
                "(-0.1500, 0.0500]",
                "(0.0500, 0.2500]",
                "(0.2500, 0.4500]",
                "(0.4500, 0.6500]",
                "(0.6500, 0.9500]",
                "(0.9500, 1.1500]",
                "(1.1500, 1.3500]",
                "(1.3500, 1.6500]",
                "(1.6500, 2.1500]",
                "(2.1500, 2.6500]",
                "(2.6500, 2.8500]",
                "(2.8500, 3.3500]",
                "(3.3500, 3.7000]",
                "(3.7000, 4.3500]",
                "(4.3500, 4.7500]",
                "(4.7500, 5.4500]",
                "(5.4500, 5.7500]",
                "(5.7500, 6.1500]",
                "(6.1500, 6.4500]",
                "(6.4500, 6.6500]",
                "(6.6500, 6.9500]",
                "(6.9500, 7.2500]",
                "(7.2500, 7.5500]",
                "(7.5500, 7.8500]",
                "(7.8500, 8.1500]",
                "(8.1500, 8.3500]",
                "(8.3500, 8.7500]",
                "(8.7500, 8.9500]",
                "(8.9500, 9.2500]",
                "(9.2500, 9.4500]",
                "(9.4500, 9.7500]",
                "(9.7500, 9.9500]",
                "(9.9500, 10.2500]",
                "(10.2500, 10.3500]",
                "(10.3500, 10.6500]",
                "(10.6500, 10.9500]",
                "(10.9500, 11.1500]",
                "(11.1500, 11.4500]",
                "(11.4500, 11.6500]",
                "(11.6500, 11.8500]",
                "(11.8500, 12.2500]",
                "(12.2500, 12.4500]",
                "(12.4500, 12.6500]",
                "(12.6500, 12.8500]",
                "(12.8500, 13.1500]",
                "(13.1500, 13.3500]",
                "(13.3500, 13.5500]",
                "(13.5500, 13.7500]",
                "(13.7500, 13.9500]",
                "(13.9500, 14.2500]",
                "(14.2500, 14.4500]",
                "(14.4500, 14.6500]",
                "(14.6500, 14.8500]",
                "(14.8500, 15.1500]",
                "(15.1500, 15.4500]",
                "(15.4500, 15.6500]",
                "(15.6500, 15.8500]",
                "(15.8500, 16.1500]",
                "(16.1500, 16.3500]",
                "(16.3500, 16.5500]",
                "(16.5500, 16.8500]",
                "(16.8500, 17.0500]",
                "(17.0500, 17.2500]",
                "(17.2500, 17.5500]",
                "(17.5500, 17.7500]",
                "(17.7500, 17.9500]",
                "(17.9500, 18.1500]",
                "(18.1500, 18.3500]",
                "(18.3500, 18.5500]",
                "(18.5500, 18.8500]",
                "(18.8500, 19.1500]",
                "(19.1500, 19.4500]",
                "(19.4500, 19.7500]",
                "(19.7500, 19.9500]",
                "(19.9500, 20.1500]",
                "(20.1500, 20.3500]",
                "(20.3500, 20.5500]",
                "(20.5500, 20.8500]",
                "(20.8500, 21.0500]",
                "(21.0500, 21.3500]",
                "(21.3500, 21.6500]",
                "(21.6500, 22.0500]",
                "(22.0500, 22.3500]",
                "(22.3500, 22.5500]",
                "(22.5500, 22.7500]",
                "(22.7500, 23.0500]",
                "(23.0500, 23.4500]",
                "(23.4500, 23.8500]",
                "(23.8500, 24.2500]",
                "(24.2500, 24.5500]",
                "(24.5500, 24.9500]",
                "(24.9500, 25.5000]",
                "(25.5000, 25.9500]",
                "(25.9500, 26.6500]",
                "(26.6500, 27.7500]",
                "(27.7500, +inf)"
               ],
               "tickvals": [
                0,
                1,
                2,
                3,
                4,
                5,
                6,
                7,
                8,
                9,
                10,
                11,
                12,
                13,
                14,
                15,
                16,
                17,
                18,
                19,
                20,
                21,
                22,
                23,
                24,
                25,
                26,
                27,
                28,
                29,
                30,
                31,
                32,
                33,
                34,
                35,
                36,
                37,
                38,
                39,
                40,
                41,
                42,
                43,
                44,
                45,
                46,
                47,
                48,
                49,
                50,
                51,
                52,
                53,
                54,
                55,
                56,
                57,
                58,
                59,
                60,
                61,
                62,
                63,
                64,
                65,
                66,
                67,
                68,
                69,
                70,
                71,
                72,
                73,
                74,
                75,
                76,
                77,
                78,
                79,
                80,
                81,
                82,
                83,
                84,
                85,
                86,
                87,
                88,
                89,
                90,
                91,
                92,
                93,
                94,
                95,
                96,
                97,
                98,
                99,
                100,
                101,
                102,
                103,
                104,
                105,
                106,
                107,
                108,
                109,
                110,
                111,
                112,
                113,
                114,
                115,
                116,
                117,
                118,
                119,
                120,
                121,
                122,
                123,
                124,
                125,
                126,
                127,
                128
               ],
               "title": {
                "text": "Bins"
               }
              }
             }
            ],
            "label": "T",
            "method": "update"
           }
          ],
          "direction": "down",
          "pad": {
           "r": 10,
           "t": 10
          },
          "showactive": true,
          "x": 0.25,
          "xanchor": "left",
          "y": 1.09,
          "yanchor": "top"
         }
        ],
        "xaxis": {
         "showticklabels": false,
         "tickmode": "array",
         "ticktext": [
          "(-inf, -19.5000]",
          "(-19.5000, -14.2500]",
          "(-14.2500, -11.9500]",
          "(-11.9500, -10.4500]",
          "(-10.4500, -9.0000]",
          "(-9.0000, -8.5500]",
          "(-8.5500, -7.9500]",
          "(-7.9500, -7.3000]",
          "(-7.3000, -6.6500]",
          "(-6.6500, -6.1500]",
          "(-6.1500, -5.4500]",
          "(-5.4500, -5.0500]",
          "(-5.0500, -4.8500]",
          "(-4.8500, -4.2500]",
          "(-4.2500, -3.9500]",
          "(-3.9500, -3.6500]",
          "(-3.6500, -3.2500]",
          "(-3.2500, -2.9500]",
          "(-2.9500, -2.8500]",
          "(-2.8500, -2.6500]",
          "(-2.6500, -2.5500]",
          "(-2.5500, -2.3500]",
          "(-2.3500, -2.1500]",
          "(-2.1500, -1.9500]",
          "(-1.9500, -1.7500]",
          "(-1.7500, -1.5500]",
          "(-1.5500, -1.4500]",
          "(-1.4500, -1.2500]",
          "(-1.2500, -1.0500]",
          "(-1.0500, -0.8500]",
          "(-0.8500, -0.6500]",
          "(-0.6500, -0.4500]",
          "(-0.4500, -0.1500]",
          "(-0.1500, 0.0500]",
          "(0.0500, 0.2500]",
          "(0.2500, 0.4500]",
          "(0.4500, 0.6500]",
          "(0.6500, 0.9500]",
          "(0.9500, 1.1500]",
          "(1.1500, 1.3500]",
          "(1.3500, 1.6500]",
          "(1.6500, 2.1500]",
          "(2.1500, 2.6500]",
          "(2.6500, 2.8500]",
          "(2.8500, 3.3500]",
          "(3.3500, 3.7000]",
          "(3.7000, 4.3500]",
          "(4.3500, 4.7500]",
          "(4.7500, 5.4500]",
          "(5.4500, 5.7500]",
          "(5.7500, 6.1500]",
          "(6.1500, 6.4500]",
          "(6.4500, 6.6500]",
          "(6.6500, 6.9500]",
          "(6.9500, 7.2500]",
          "(7.2500, 7.5500]",
          "(7.5500, 7.8500]",
          "(7.8500, 8.1500]",
          "(8.1500, 8.3500]",
          "(8.3500, 8.7500]",
          "(8.7500, 8.9500]",
          "(8.9500, 9.2500]",
          "(9.2500, 9.4500]",
          "(9.4500, 9.7500]",
          "(9.7500, 9.9500]",
          "(9.9500, 10.2500]",
          "(10.2500, 10.3500]",
          "(10.3500, 10.6500]",
          "(10.6500, 10.9500]",
          "(10.9500, 11.1500]",
          "(11.1500, 11.4500]",
          "(11.4500, 11.6500]",
          "(11.6500, 11.8500]",
          "(11.8500, 12.2500]",
          "(12.2500, 12.4500]",
          "(12.4500, 12.6500]",
          "(12.6500, 12.8500]",
          "(12.8500, 13.1500]",
          "(13.1500, 13.3500]",
          "(13.3500, 13.5500]",
          "(13.5500, 13.7500]",
          "(13.7500, 13.9500]",
          "(13.9500, 14.2500]",
          "(14.2500, 14.4500]",
          "(14.4500, 14.6500]",
          "(14.6500, 14.8500]",
          "(14.8500, 15.1500]",
          "(15.1500, 15.4500]",
          "(15.4500, 15.6500]",
          "(15.6500, 15.8500]",
          "(15.8500, 16.1500]",
          "(16.1500, 16.3500]",
          "(16.3500, 16.5500]",
          "(16.5500, 16.8500]",
          "(16.8500, 17.0500]",
          "(17.0500, 17.2500]",
          "(17.2500, 17.5500]",
          "(17.5500, 17.7500]",
          "(17.7500, 17.9500]",
          "(17.9500, 18.1500]",
          "(18.1500, 18.3500]",
          "(18.3500, 18.5500]",
          "(18.5500, 18.8500]",
          "(18.8500, 19.1500]",
          "(19.1500, 19.4500]",
          "(19.4500, 19.7500]",
          "(19.7500, 19.9500]",
          "(19.9500, 20.1500]",
          "(20.1500, 20.3500]",
          "(20.3500, 20.5500]",
          "(20.5500, 20.8500]",
          "(20.8500, 21.0500]",
          "(21.0500, 21.3500]",
          "(21.3500, 21.6500]",
          "(21.6500, 22.0500]",
          "(22.0500, 22.3500]",
          "(22.3500, 22.5500]",
          "(22.5500, 22.7500]",
          "(22.7500, 23.0500]",
          "(23.0500, 23.4500]",
          "(23.4500, 23.8500]",
          "(23.8500, 24.2500]",
          "(24.2500, 24.5500]",
          "(24.5500, 24.9500]",
          "(24.9500, 25.5000]",
          "(25.5000, 25.9500]",
          "(25.9500, 26.6500]",
          "(26.6500, 27.7500]",
          "(27.7500, +inf)"
         ],
         "tickvals": [
          0,
          1,
          2,
          3,
          4,
          5,
          6,
          7,
          8,
          9,
          10,
          11,
          12,
          13,
          14,
          15,
          16,
          17,
          18,
          19,
          20,
          21,
          22,
          23,
          24,
          25,
          26,
          27,
          28,
          29,
          30,
          31,
          32,
          33,
          34,
          35,
          36,
          37,
          38,
          39,
          40,
          41,
          42,
          43,
          44,
          45,
          46,
          47,
          48,
          49,
          50,
          51,
          52,
          53,
          54,
          55,
          56,
          57,
          58,
          59,
          60,
          61,
          62,
          63,
          64,
          65,
          66,
          67,
          68,
          69,
          70,
          71,
          72,
          73,
          74,
          75,
          76,
          77,
          78,
          79,
          80,
          81,
          82,
          83,
          84,
          85,
          86,
          87,
          88,
          89,
          90,
          91,
          92,
          93,
          94,
          95,
          96,
          97,
          98,
          99,
          100,
          101,
          102,
          103,
          104,
          105,
          106,
          107,
          108,
          109,
          110,
          111,
          112,
          113,
          114,
          115,
          116,
          117,
          118,
          119,
          120,
          121,
          122,
          123,
          124,
          125,
          126,
          127,
          128
         ],
         "title": {
          "text": "Bins"
         }
        },
        "yaxis": {
         "overlaying": "y2",
         "side": "left",
         "title": {
          "text": "Prediction and target"
         }
        },
        "yaxis2": {
         "position": 1.0,
         "side": "right",
         "title": {
          "text": "Objects per bin"
         }
        }
       },
       "config": {
        "showLink": false,
        "linkText": "Export to plot.ly",
        "plotlyServerURL": "https://plot.ly"
       }
      },
      "text/html": "<div>                            <div id=\"3601bd3e-f8ef-48df-9559-961183a895ec\" class=\"plotly-graph-div\" style=\"height:525px; width:100%;\"></div>            <script type=\"text/javascript\">                require([\"plotly\"], function(Plotly) {                    window.PLOTLYENV=window.PLOTLYENV || {};                                    if (document.getElementById(\"3601bd3e-f8ef-48df-9559-961183a895ec\")) {                    Plotly.newPlot(                        \"3601bd3e-f8ef-48df-9559-961183a895ec\",                        [{\"mode\":\"lines+markers\",\"name\":\"Mean target\",\"xaxis\":\"x\",\"y\":[756.0379028320312,748.9755859375,450.4134826660156,768.4798583984375,749.5350341796875,612.0111083984375,492.0093078613281,641.4674072265625,581.6193237304688,563.23876953125,644.4000244140625,678.9931030273438,807.4468994140625,700.46044921875,518.7415771484375,714.3536987304688,703.1054077148438,639.4171752929688,573.9562377929688,413.7865905761719,632.4083251953125,457.46484375,873.2891235351562,491.95977783203125,765.1937255859375,604.1627807617188,620.9035034179688,514.0947265625,750.6845092773438,557.3663330078125,536.123779296875,708.7139892578125,742.8545532226562,881.2337646484375,766.6649780273438,565.9448852539062,677.49560546875,666.6416015625,781.6397094726562,611.8086547851562,625.901123046875,772.4725952148438,746.8109130859375,645.718505859375,620.52587890625,759.7510375976562,687.4780883789062,431.6052551269531,661.2153930664062,681.853759765625,687.10498046875,572.27197265625,577.854736328125,433.4631652832031,564.6347045898438,633.0616455078125,677.7236938476562,488.91827392578125,727.6405639648438,617.6929931640625,543.0634155273438,658.6862182617188,595.8712768554688,585.1800537109375,541.5149536132812,815.587890625,680.4879150390625,634.7926635742188,716.4000244140625,786.5945434570312,714.644287109375,497.93084716796875,874.3592529296875,700.72314453125,762.8035888671875,674.7479248046875,518.1196899414062,590.2660522460938,449.0435485839844,705.20068359375,446.18792724609375,958.7299194335938,611.2168579101562,505.4664611816406,664.94775390625,709.7821655273438,761.1666870117188,671.38525390625,364.7835693359375,543.0761108398438,809.1585693359375,718.4284057617188,674.2743530273438,659.454345703125,637.4837646484375,709.2915649414062,688.00390625,514.8377685546875,698.8468627929688,565.9332275390625,853.1405029296875,610.412841796875,594.196044921875,644.0068969726562,736.5599365234375,734.9339599609375,735.4494018554688,837.0056762695312,867.2177124023438,958.6368408203125,703.8350830078125,923.1611328125,817.7450561523438,729.768310546875,818.1947021484375,870.0775146484375,816.7313842773438,802.4725952148438,666.1119995117188,793.429443359375,878.3399047851562,1045.6002197265625,776.6027221679688,728.622802734375,880.0146484375,913.3572387695312,785.5,857.8499755859375,787.9041748046875],\"yaxis\":\"y\",\"type\":\"scatter\"},{\"line\":{\"dash\":\"dash\"},\"mode\":\"lines+markers\",\"name\":\"Mean prediction on each segment of feature values\",\"xaxis\":\"x\",\"y\":[756.4498901367188,787.6025390625,461.9056091308594,768.9894409179688,757.0394287109375,608.2390747070312,570.0511474609375,652.345947265625,600.8283081054688,592.864501953125,667.2748413085938,739.5802612304688,803.51611328125,698.5836181640625,535.3013305664062,725.9740600585938,710.99853515625,701.1678466796875,622.0902099609375,456.3018493652344,714.8988037109375,519.9757080078125,912.8190307617188,495.6299133300781,782.3969116210938,615.966796875,653.8326416015625,556.4017944335938,799.5852661132812,633.4179077148438,564.802978515625,689.093994140625,786.819091796875,910.6231689453125,784.6519165039062,600.910888671875,710.8820190429688,700.4105224609375,821.4544067382812,655.151611328125,643.5222778320312,776.326904296875,801.7435302734375,693.3582763671875,658.2124633789062,773.2427368164062,749.0923461914062,518.5017700195312,748.6355590820312,709.8779296875,726.9824829101562,606.9281005859375,615.9539184570312,482.852294921875,614.7764282226562,634.4974365234375,735.3968505859375,531.07763671875,784.0127563476562,638.2273559570312,535.5451049804688,689.24658203125,617.4092407226562,587.5092163085938,564.5467529296875,822.5833740234375,713.0150756835938,684.55126953125,742.7384643554688,838.1510620117188,750.3526000976562,512.0626831054688,885.2745971679688,816.5564575195312,829.66748046875,680.517578125,535.0338134765625,644.0653076171875,481.1358337402344,709.1986083984375,458.9895935058594,969.9497680664062,610.0675659179688,548.861083984375,677.12890625,743.434814453125,789.3865356445312,708.6264038085938,410.1990051269531,583.3784790039062,822.52783203125,717.2820434570312,716.5172119140625,651.254150390625,659.1665649414062,763.364501953125,688.3988647460938,535.7916259765625,752.2379150390625,558.1102294921875,877.6134643554688,609.4290161132812,599.9451293945312,653.395751953125,794.83544921875,746.744384765625,730.6078491210938,831.1730346679688,880.98828125,927.9075927734375,715.6537475585938,912.9437866210938,831.6903076171875,750.4686889648438,815.5975341796875,889.6780395507812,800.81103515625,794.3635864257812,673.5928344726562,822.1266479492188,857.676025390625,1032.8734130859375,812.7999877929688,745.1629638671875,861.424072265625,879.7069702148438,763.9505615234375,897.760498046875,781.0272827148438],\"yaxis\":\"y\",\"type\":\"scatter\"},{\"marker\":{\"color\":\"rgba(30, 150, 30, 0.4)\"},\"name\":\"Objects per bin\",\"width\":0.8,\"xaxis\":\"x\",\"y\":[897,860,994,744,899,810,859,890,964,758,855,872,857,834,743,1046,854,978,845,909,867,583,972,870,1022,639,891,739,672,969,711,972,873,723,991,853,906,971,755,1087,789,821,825,714,793,964,1050,836,1012,889,1019,820,840,801,876,860,713,979,971,1000,930,647,808,711,837,990,787,897,995,772,1147,535,785,921,611,611,660,1011,574,842,894,748,950,954,708,785,828,976,1035,867,763,859,842,953,585,662,765,567,849,689,975,872,954,870,934,727,850,705,666,548,958,695,1012,587,945,748,685,766,884,822,709,798,584,692,886,781,822,780,762],\"yaxis\":\"y2\",\"type\":\"bar\"},{\"line\":{\"dash\":\"dashdot\"},\"mode\":\"lines+markers\",\"name\":\"Mean prediction with substituted feature\",\"xaxis\":\"x\",\"y\":[765.421214551989,735.4568040817351,731.0697679657111,729.5974689049748,708.3613239584305,705.656942307029,702.290497187735,703.2466946268038,702.9894057082681,702.9342808307508,703.2029951160807,702.8007434652187,702.3166890642259,702.4376436358037,701.6483386794837,699.5737179938141,698.6708109483511,697.6599612297194,697.4450492636391,697.377342484468,696.8219536967093,696.7757897277664,697.1410696396536,696.6619917567426,696.6343652572044,696.5388756793564,696.5155448781757,696.9472413275206,697.0825058697463,697.2129917819892,697.9065325865909,698.4438886165357,698.5891790973901,699.0160859136336,699.05585364437,698.7438053069046,698.7085720666489,699.0272852416019,698.9485865944403,698.9178415442273,698.85035110581,698.7567126730476,698.7276022187946,698.721293004282,697.3363539666441,697.548528462137,697.8193880135417,698.6438235158262,698.7748099754848,699.8228873249104,699.9576535521919,700.0919282663483,696.9836438057614,700.4572945912212,700.5310211662722,700.6514545160145,700.9921677159787,701.2141265620803,701.336835845935,701.469963158667,701.5191732516305,701.5415443217164,701.6035024482705,701.5725763547393,702.0855970101312,701.3899717290761,701.268035283754,701.1666716775949,700.8758377708199,701.0693739672107,701.2550820026519,701.0305407595368,701.204437809624,701.2795486576861,701.7473905038981,701.842117971903,701.6290022493282,701.6025589498697,701.618607697216,701.6350565093664,701.6541785933679,701.6597307059877,701.7981091389429,701.749090629417,701.672729573607,701.5047693719489,701.4807022142389,701.935742348723,701.840750798952,701.9214838874187,702.2723512155314,702.4411266686559,702.5628993394434,702.6378402312822,703.3845585690299,703.3188966004592,703.1014081386293,703.0133559853838,702.5647729037638,702.6249148780944,703.5990807363287,703.5670164820446,703.8166038398994,703.7875704894639,704.4046481531013,704.2743104913583,704.1447357427551,703.7929538434446,703.3435692725296,704.1382799462291,706.2599457043649,706.7916857689893,706.1802106790034,705.905654645537,706.1587852416574,705.0016815460906,705.2017713264058,705.0692341199652,706.9720239921044,707.7519085202161,706.2714774463012,711.105448716248,695.5116437279278,698.9019262708672,699.9414885602329,701.3088836235326,701.3203230080549,704.5318895082854,704.5360440398277],\"yaxis\":\"y\",\"type\":\"scatter\"}],                        {\"annotations\":[{\"align\":\"left\",\"showarrow\":false,\"text\":\"Statistics for feature\",\"x\":0,\"xref\":\"paper\",\"y\":1.05,\"yref\":\"paper\"}],\"legend\":{\"bgcolor\":\"rgba(0,0,0,0)\",\"x\":1.07},\"template\":{\"data\":{\"barpolar\":[{\"marker\":{\"line\":{\"color\":\"#E5ECF6\",\"width\":0.5},\"pattern\":{\"fillmode\":\"overlay\",\"size\":10,\"solidity\":0.2}},\"type\":\"barpolar\"}],\"bar\":[{\"error_x\":{\"color\":\"#2a3f5f\"},\"error_y\":{\"color\":\"#2a3f5f\"},\"marker\":{\"line\":{\"color\":\"#E5ECF6\",\"width\":0.5},\"pattern\":{\"fillmode\":\"overlay\",\"size\":10,\"solidity\":0.2}},\"type\":\"bar\"}],\"carpet\":[{\"aaxis\":{\"endlinecolor\":\"#2a3f5f\",\"gridcolor\":\"white\",\"linecolor\":\"white\",\"minorgridcolor\":\"white\",\"startlinecolor\":\"#2a3f5f\"},\"baxis\":{\"endlinecolor\":\"#2a3f5f\",\"gridcolor\":\"white\",\"linecolor\":\"white\",\"minorgridcolor\":\"white\",\"startlinecolor\":\"#2a3f5f\"},\"type\":\"carpet\"}],\"choropleth\":[{\"colorbar\":{\"outlinewidth\":0,\"ticks\":\"\"},\"type\":\"choropleth\"}],\"contourcarpet\":[{\"colorbar\":{\"outlinewidth\":0,\"ticks\":\"\"},\"type\":\"contourcarpet\"}],\"contour\":[{\"colorbar\":{\"outlinewidth\":0,\"ticks\":\"\"},\"colorscale\":[[0.0,\"#0d0887\"],[0.1111111111111111,\"#46039f\"],[0.2222222222222222,\"#7201a8\"],[0.3333333333333333,\"#9c179e\"],[0.4444444444444444,\"#bd3786\"],[0.5555555555555556,\"#d8576b\"],[0.6666666666666666,\"#ed7953\"],[0.7777777777777778,\"#fb9f3a\"],[0.8888888888888888,\"#fdca26\"],[1.0,\"#f0f921\"]],\"type\":\"contour\"}],\"heatmapgl\":[{\"colorbar\":{\"outlinewidth\":0,\"ticks\":\"\"},\"colorscale\":[[0.0,\"#0d0887\"],[0.1111111111111111,\"#46039f\"],[0.2222222222222222,\"#7201a8\"],[0.3333333333333333,\"#9c179e\"],[0.4444444444444444,\"#bd3786\"],[0.5555555555555556,\"#d8576b\"],[0.6666666666666666,\"#ed7953\"],[0.7777777777777778,\"#fb9f3a\"],[0.8888888888888888,\"#fdca26\"],[1.0,\"#f0f921\"]],\"type\":\"heatmapgl\"}],\"heatmap\":[{\"colorbar\":{\"outlinewidth\":0,\"ticks\":\"\"},\"colorscale\":[[0.0,\"#0d0887\"],[0.1111111111111111,\"#46039f\"],[0.2222222222222222,\"#7201a8\"],[0.3333333333333333,\"#9c179e\"],[0.4444444444444444,\"#bd3786\"],[0.5555555555555556,\"#d8576b\"],[0.6666666666666666,\"#ed7953\"],[0.7777777777777778,\"#fb9f3a\"],[0.8888888888888888,\"#fdca26\"],[1.0,\"#f0f921\"]],\"type\":\"heatmap\"}],\"histogram2dcontour\":[{\"colorbar\":{\"outlinewidth\":0,\"ticks\":\"\"},\"colorscale\":[[0.0,\"#0d0887\"],[0.1111111111111111,\"#46039f\"],[0.2222222222222222,\"#7201a8\"],[0.3333333333333333,\"#9c179e\"],[0.4444444444444444,\"#bd3786\"],[0.5555555555555556,\"#d8576b\"],[0.6666666666666666,\"#ed7953\"],[0.7777777777777778,\"#fb9f3a\"],[0.8888888888888888,\"#fdca26\"],[1.0,\"#f0f921\"]],\"type\":\"histogram2dcontour\"}],\"histogram2d\":[{\"colorbar\":{\"outlinewidth\":0,\"ticks\":\"\"},\"colorscale\":[[0.0,\"#0d0887\"],[0.1111111111111111,\"#46039f\"],[0.2222222222222222,\"#7201a8\"],[0.3333333333333333,\"#9c179e\"],[0.4444444444444444,\"#bd3786\"],[0.5555555555555556,\"#d8576b\"],[0.6666666666666666,\"#ed7953\"],[0.7777777777777778,\"#fb9f3a\"],[0.8888888888888888,\"#fdca26\"],[1.0,\"#f0f921\"]],\"type\":\"histogram2d\"}],\"histogram\":[{\"marker\":{\"pattern\":{\"fillmode\":\"overlay\",\"size\":10,\"solidity\":0.2}},\"type\":\"histogram\"}],\"mesh3d\":[{\"colorbar\":{\"outlinewidth\":0,\"ticks\":\"\"},\"type\":\"mesh3d\"}],\"parcoords\":[{\"line\":{\"colorbar\":{\"outlinewidth\":0,\"ticks\":\"\"}},\"type\":\"parcoords\"}],\"pie\":[{\"automargin\":true,\"type\":\"pie\"}],\"scatter3d\":[{\"line\":{\"colorbar\":{\"outlinewidth\":0,\"ticks\":\"\"}},\"marker\":{\"colorbar\":{\"outlinewidth\":0,\"ticks\":\"\"}},\"type\":\"scatter3d\"}],\"scattercarpet\":[{\"marker\":{\"colorbar\":{\"outlinewidth\":0,\"ticks\":\"\"}},\"type\":\"scattercarpet\"}],\"scattergeo\":[{\"marker\":{\"colorbar\":{\"outlinewidth\":0,\"ticks\":\"\"}},\"type\":\"scattergeo\"}],\"scattergl\":[{\"marker\":{\"colorbar\":{\"outlinewidth\":0,\"ticks\":\"\"}},\"type\":\"scattergl\"}],\"scattermapbox\":[{\"marker\":{\"colorbar\":{\"outlinewidth\":0,\"ticks\":\"\"}},\"type\":\"scattermapbox\"}],\"scatterpolargl\":[{\"marker\":{\"colorbar\":{\"outlinewidth\":0,\"ticks\":\"\"}},\"type\":\"scatterpolargl\"}],\"scatterpolar\":[{\"marker\":{\"colorbar\":{\"outlinewidth\":0,\"ticks\":\"\"}},\"type\":\"scatterpolar\"}],\"scatter\":[{\"fillpattern\":{\"fillmode\":\"overlay\",\"size\":10,\"solidity\":0.2},\"type\":\"scatter\"}],\"scatterternary\":[{\"marker\":{\"colorbar\":{\"outlinewidth\":0,\"ticks\":\"\"}},\"type\":\"scatterternary\"}],\"surface\":[{\"colorbar\":{\"outlinewidth\":0,\"ticks\":\"\"},\"colorscale\":[[0.0,\"#0d0887\"],[0.1111111111111111,\"#46039f\"],[0.2222222222222222,\"#7201a8\"],[0.3333333333333333,\"#9c179e\"],[0.4444444444444444,\"#bd3786\"],[0.5555555555555556,\"#d8576b\"],[0.6666666666666666,\"#ed7953\"],[0.7777777777777778,\"#fb9f3a\"],[0.8888888888888888,\"#fdca26\"],[1.0,\"#f0f921\"]],\"type\":\"surface\"}],\"table\":[{\"cells\":{\"fill\":{\"color\":\"#EBF0F8\"},\"line\":{\"color\":\"white\"}},\"header\":{\"fill\":{\"color\":\"#C8D4E3\"},\"line\":{\"color\":\"white\"}},\"type\":\"table\"}]},\"layout\":{\"annotationdefaults\":{\"arrowcolor\":\"#2a3f5f\",\"arrowhead\":0,\"arrowwidth\":1},\"autotypenumbers\":\"strict\",\"coloraxis\":{\"colorbar\":{\"outlinewidth\":0,\"ticks\":\"\"}},\"colorscale\":{\"diverging\":[[0,\"#8e0152\"],[0.1,\"#c51b7d\"],[0.2,\"#de77ae\"],[0.3,\"#f1b6da\"],[0.4,\"#fde0ef\"],[0.5,\"#f7f7f7\"],[0.6,\"#e6f5d0\"],[0.7,\"#b8e186\"],[0.8,\"#7fbc41\"],[0.9,\"#4d9221\"],[1,\"#276419\"]],\"sequential\":[[0.0,\"#0d0887\"],[0.1111111111111111,\"#46039f\"],[0.2222222222222222,\"#7201a8\"],[0.3333333333333333,\"#9c179e\"],[0.4444444444444444,\"#bd3786\"],[0.5555555555555556,\"#d8576b\"],[0.6666666666666666,\"#ed7953\"],[0.7777777777777778,\"#fb9f3a\"],[0.8888888888888888,\"#fdca26\"],[1.0,\"#f0f921\"]],\"sequentialminus\":[[0.0,\"#0d0887\"],[0.1111111111111111,\"#46039f\"],[0.2222222222222222,\"#7201a8\"],[0.3333333333333333,\"#9c179e\"],[0.4444444444444444,\"#bd3786\"],[0.5555555555555556,\"#d8576b\"],[0.6666666666666666,\"#ed7953\"],[0.7777777777777778,\"#fb9f3a\"],[0.8888888888888888,\"#fdca26\"],[1.0,\"#f0f921\"]]},\"colorway\":[\"#636efa\",\"#EF553B\",\"#00cc96\",\"#ab63fa\",\"#FFA15A\",\"#19d3f3\",\"#FF6692\",\"#B6E880\",\"#FF97FF\",\"#FECB52\"],\"font\":{\"color\":\"#2a3f5f\"},\"geo\":{\"bgcolor\":\"white\",\"lakecolor\":\"white\",\"landcolor\":\"#E5ECF6\",\"showlakes\":true,\"showland\":true,\"subunitcolor\":\"white\"},\"hoverlabel\":{\"align\":\"left\"},\"hovermode\":\"closest\",\"mapbox\":{\"style\":\"light\"},\"paper_bgcolor\":\"white\",\"plot_bgcolor\":\"#E5ECF6\",\"polar\":{\"angularaxis\":{\"gridcolor\":\"white\",\"linecolor\":\"white\",\"ticks\":\"\"},\"bgcolor\":\"#E5ECF6\",\"radialaxis\":{\"gridcolor\":\"white\",\"linecolor\":\"white\",\"ticks\":\"\"}},\"scene\":{\"xaxis\":{\"backgroundcolor\":\"#E5ECF6\",\"gridcolor\":\"white\",\"gridwidth\":2,\"linecolor\":\"white\",\"showbackground\":true,\"ticks\":\"\",\"zerolinecolor\":\"white\"},\"yaxis\":{\"backgroundcolor\":\"#E5ECF6\",\"gridcolor\":\"white\",\"gridwidth\":2,\"linecolor\":\"white\",\"showbackground\":true,\"ticks\":\"\",\"zerolinecolor\":\"white\"},\"zaxis\":{\"backgroundcolor\":\"#E5ECF6\",\"gridcolor\":\"white\",\"gridwidth\":2,\"linecolor\":\"white\",\"showbackground\":true,\"ticks\":\"\",\"zerolinecolor\":\"white\"}},\"shapedefaults\":{\"line\":{\"color\":\"#2a3f5f\"}},\"ternary\":{\"aaxis\":{\"gridcolor\":\"white\",\"linecolor\":\"white\",\"ticks\":\"\"},\"baxis\":{\"gridcolor\":\"white\",\"linecolor\":\"white\",\"ticks\":\"\"},\"bgcolor\":\"#E5ECF6\",\"caxis\":{\"gridcolor\":\"white\",\"linecolor\":\"white\",\"ticks\":\"\"}},\"title\":{\"x\":0.05},\"xaxis\":{\"automargin\":true,\"gridcolor\":\"white\",\"linecolor\":\"white\",\"ticks\":\"\",\"title\":{\"standoff\":15},\"zerolinecolor\":\"white\",\"zerolinewidth\":2},\"yaxis\":{\"automargin\":true,\"gridcolor\":\"white\",\"linecolor\":\"white\",\"ticks\":\"\",\"title\":{\"standoff\":15},\"zerolinecolor\":\"white\",\"zerolinewidth\":2}}},\"updatemenus\":[{\"buttons\":[{\"args\":[{\"y\":[[756.0379028320312,748.9755859375,450.4134826660156,768.4798583984375,749.5350341796875,612.0111083984375,492.0093078613281,641.4674072265625,581.6193237304688,563.23876953125,644.4000244140625,678.9931030273438,807.4468994140625,700.46044921875,518.7415771484375,714.3536987304688,703.1054077148438,639.4171752929688,573.9562377929688,413.7865905761719,632.4083251953125,457.46484375,873.2891235351562,491.95977783203125,765.1937255859375,604.1627807617188,620.9035034179688,514.0947265625,750.6845092773438,557.3663330078125,536.123779296875,708.7139892578125,742.8545532226562,881.2337646484375,766.6649780273438,565.9448852539062,677.49560546875,666.6416015625,781.6397094726562,611.8086547851562,625.901123046875,772.4725952148438,746.8109130859375,645.718505859375,620.52587890625,759.7510375976562,687.4780883789062,431.6052551269531,661.2153930664062,681.853759765625,687.10498046875,572.27197265625,577.854736328125,433.4631652832031,564.6347045898438,633.0616455078125,677.7236938476562,488.91827392578125,727.6405639648438,617.6929931640625,543.0634155273438,658.6862182617188,595.8712768554688,585.1800537109375,541.5149536132812,815.587890625,680.4879150390625,634.7926635742188,716.4000244140625,786.5945434570312,714.644287109375,497.93084716796875,874.3592529296875,700.72314453125,762.8035888671875,674.7479248046875,518.1196899414062,590.2660522460938,449.0435485839844,705.20068359375,446.18792724609375,958.7299194335938,611.2168579101562,505.4664611816406,664.94775390625,709.7821655273438,761.1666870117188,671.38525390625,364.7835693359375,543.0761108398438,809.1585693359375,718.4284057617188,674.2743530273438,659.454345703125,637.4837646484375,709.2915649414062,688.00390625,514.8377685546875,698.8468627929688,565.9332275390625,853.1405029296875,610.412841796875,594.196044921875,644.0068969726562,736.5599365234375,734.9339599609375,735.4494018554688,837.0056762695312,867.2177124023438,958.6368408203125,703.8350830078125,923.1611328125,817.7450561523438,729.768310546875,818.1947021484375,870.0775146484375,816.7313842773438,802.4725952148438,666.1119995117188,793.429443359375,878.3399047851562,1045.6002197265625,776.6027221679688,728.622802734375,880.0146484375,913.3572387695312,785.5,857.8499755859375,787.9041748046875],[756.4498901367188,787.6025390625,461.9056091308594,768.9894409179688,757.0394287109375,608.2390747070312,570.0511474609375,652.345947265625,600.8283081054688,592.864501953125,667.2748413085938,739.5802612304688,803.51611328125,698.5836181640625,535.3013305664062,725.9740600585938,710.99853515625,701.1678466796875,622.0902099609375,456.3018493652344,714.8988037109375,519.9757080078125,912.8190307617188,495.6299133300781,782.3969116210938,615.966796875,653.8326416015625,556.4017944335938,799.5852661132812,633.4179077148438,564.802978515625,689.093994140625,786.819091796875,910.6231689453125,784.6519165039062,600.910888671875,710.8820190429688,700.4105224609375,821.4544067382812,655.151611328125,643.5222778320312,776.326904296875,801.7435302734375,693.3582763671875,658.2124633789062,773.2427368164062,749.0923461914062,518.5017700195312,748.6355590820312,709.8779296875,726.9824829101562,606.9281005859375,615.9539184570312,482.852294921875,614.7764282226562,634.4974365234375,735.3968505859375,531.07763671875,784.0127563476562,638.2273559570312,535.5451049804688,689.24658203125,617.4092407226562,587.5092163085938,564.5467529296875,822.5833740234375,713.0150756835938,684.55126953125,742.7384643554688,838.1510620117188,750.3526000976562,512.0626831054688,885.2745971679688,816.5564575195312,829.66748046875,680.517578125,535.0338134765625,644.0653076171875,481.1358337402344,709.1986083984375,458.9895935058594,969.9497680664062,610.0675659179688,548.861083984375,677.12890625,743.434814453125,789.3865356445312,708.6264038085938,410.1990051269531,583.3784790039062,822.52783203125,717.2820434570312,716.5172119140625,651.254150390625,659.1665649414062,763.364501953125,688.3988647460938,535.7916259765625,752.2379150390625,558.1102294921875,877.6134643554688,609.4290161132812,599.9451293945312,653.395751953125,794.83544921875,746.744384765625,730.6078491210938,831.1730346679688,880.98828125,927.9075927734375,715.6537475585938,912.9437866210938,831.6903076171875,750.4686889648438,815.5975341796875,889.6780395507812,800.81103515625,794.3635864257812,673.5928344726562,822.1266479492188,857.676025390625,1032.8734130859375,812.7999877929688,745.1629638671875,861.424072265625,879.7069702148438,763.9505615234375,897.760498046875,781.0272827148438],[897,860,994,744,899,810,859,890,964,758,855,872,857,834,743,1046,854,978,845,909,867,583,972,870,1022,639,891,739,672,969,711,972,873,723,991,853,906,971,755,1087,789,821,825,714,793,964,1050,836,1012,889,1019,820,840,801,876,860,713,979,971,1000,930,647,808,711,837,990,787,897,995,772,1147,535,785,921,611,611,660,1011,574,842,894,748,950,954,708,785,828,976,1035,867,763,859,842,953,585,662,765,567,849,689,975,872,954,870,934,727,850,705,666,548,958,695,1012,587,945,748,685,766,884,822,709,798,584,692,886,781,822,780,762],[765.421214551989,735.4568040817351,731.0697679657111,729.5974689049748,708.3613239584305,705.656942307029,702.290497187735,703.2466946268038,702.9894057082681,702.9342808307508,703.2029951160807,702.8007434652187,702.3166890642259,702.4376436358037,701.6483386794837,699.5737179938141,698.6708109483511,697.6599612297194,697.4450492636391,697.377342484468,696.8219536967093,696.7757897277664,697.1410696396536,696.6619917567426,696.6343652572044,696.5388756793564,696.5155448781757,696.9472413275206,697.0825058697463,697.2129917819892,697.9065325865909,698.4438886165357,698.5891790973901,699.0160859136336,699.05585364437,698.7438053069046,698.7085720666489,699.0272852416019,698.9485865944403,698.9178415442273,698.85035110581,698.7567126730476,698.7276022187946,698.721293004282,697.3363539666441,697.548528462137,697.8193880135417,698.6438235158262,698.7748099754848,699.8228873249104,699.9576535521919,700.0919282663483,696.9836438057614,700.4572945912212,700.5310211662722,700.6514545160145,700.9921677159787,701.2141265620803,701.336835845935,701.469963158667,701.5191732516305,701.5415443217164,701.6035024482705,701.5725763547393,702.0855970101312,701.3899717290761,701.268035283754,701.1666716775949,700.8758377708199,701.0693739672107,701.2550820026519,701.0305407595368,701.204437809624,701.2795486576861,701.7473905038981,701.842117971903,701.6290022493282,701.6025589498697,701.618607697216,701.6350565093664,701.6541785933679,701.6597307059877,701.7981091389429,701.749090629417,701.672729573607,701.5047693719489,701.4807022142389,701.935742348723,701.840750798952,701.9214838874187,702.2723512155314,702.4411266686559,702.5628993394434,702.6378402312822,703.3845585690299,703.3188966004592,703.1014081386293,703.0133559853838,702.5647729037638,702.6249148780944,703.5990807363287,703.5670164820446,703.8166038398994,703.7875704894639,704.4046481531013,704.2743104913583,704.1447357427551,703.7929538434446,703.3435692725296,704.1382799462291,706.2599457043649,706.7916857689893,706.1802106790034,705.905654645537,706.1587852416574,705.0016815460906,705.2017713264058,705.0692341199652,706.9720239921044,707.7519085202161,706.2714774463012,711.105448716248,695.5116437279278,698.9019262708672,699.9414885602329,701.3088836235326,701.3203230080549,704.5318895082854,704.5360440398277]]},{\"xaxis\":{\"showticklabels\":false,\"tickmode\":\"array\",\"ticktext\":[\"(-inf, -19.5000]\",\"(-19.5000, -14.2500]\",\"(-14.2500, -11.9500]\",\"(-11.9500, -10.4500]\",\"(-10.4500, -9.0000]\",\"(-9.0000, -8.5500]\",\"(-8.5500, -7.9500]\",\"(-7.9500, -7.3000]\",\"(-7.3000, -6.6500]\",\"(-6.6500, -6.1500]\",\"(-6.1500, -5.4500]\",\"(-5.4500, -5.0500]\",\"(-5.0500, -4.8500]\",\"(-4.8500, -4.2500]\",\"(-4.2500, -3.9500]\",\"(-3.9500, -3.6500]\",\"(-3.6500, -3.2500]\",\"(-3.2500, -2.9500]\",\"(-2.9500, -2.8500]\",\"(-2.8500, -2.6500]\",\"(-2.6500, -2.5500]\",\"(-2.5500, -2.3500]\",\"(-2.3500, -2.1500]\",\"(-2.1500, -1.9500]\",\"(-1.9500, -1.7500]\",\"(-1.7500, -1.5500]\",\"(-1.5500, -1.4500]\",\"(-1.4500, -1.2500]\",\"(-1.2500, -1.0500]\",\"(-1.0500, -0.8500]\",\"(-0.8500, -0.6500]\",\"(-0.6500, -0.4500]\",\"(-0.4500, -0.1500]\",\"(-0.1500, 0.0500]\",\"(0.0500, 0.2500]\",\"(0.2500, 0.4500]\",\"(0.4500, 0.6500]\",\"(0.6500, 0.9500]\",\"(0.9500, 1.1500]\",\"(1.1500, 1.3500]\",\"(1.3500, 1.6500]\",\"(1.6500, 2.1500]\",\"(2.1500, 2.6500]\",\"(2.6500, 2.8500]\",\"(2.8500, 3.3500]\",\"(3.3500, 3.7000]\",\"(3.7000, 4.3500]\",\"(4.3500, 4.7500]\",\"(4.7500, 5.4500]\",\"(5.4500, 5.7500]\",\"(5.7500, 6.1500]\",\"(6.1500, 6.4500]\",\"(6.4500, 6.6500]\",\"(6.6500, 6.9500]\",\"(6.9500, 7.2500]\",\"(7.2500, 7.5500]\",\"(7.5500, 7.8500]\",\"(7.8500, 8.1500]\",\"(8.1500, 8.3500]\",\"(8.3500, 8.7500]\",\"(8.7500, 8.9500]\",\"(8.9500, 9.2500]\",\"(9.2500, 9.4500]\",\"(9.4500, 9.7500]\",\"(9.7500, 9.9500]\",\"(9.9500, 10.2500]\",\"(10.2500, 10.3500]\",\"(10.3500, 10.6500]\",\"(10.6500, 10.9500]\",\"(10.9500, 11.1500]\",\"(11.1500, 11.4500]\",\"(11.4500, 11.6500]\",\"(11.6500, 11.8500]\",\"(11.8500, 12.2500]\",\"(12.2500, 12.4500]\",\"(12.4500, 12.6500]\",\"(12.6500, 12.8500]\",\"(12.8500, 13.1500]\",\"(13.1500, 13.3500]\",\"(13.3500, 13.5500]\",\"(13.5500, 13.7500]\",\"(13.7500, 13.9500]\",\"(13.9500, 14.2500]\",\"(14.2500, 14.4500]\",\"(14.4500, 14.6500]\",\"(14.6500, 14.8500]\",\"(14.8500, 15.1500]\",\"(15.1500, 15.4500]\",\"(15.4500, 15.6500]\",\"(15.6500, 15.8500]\",\"(15.8500, 16.1500]\",\"(16.1500, 16.3500]\",\"(16.3500, 16.5500]\",\"(16.5500, 16.8500]\",\"(16.8500, 17.0500]\",\"(17.0500, 17.2500]\",\"(17.2500, 17.5500]\",\"(17.5500, 17.7500]\",\"(17.7500, 17.9500]\",\"(17.9500, 18.1500]\",\"(18.1500, 18.3500]\",\"(18.3500, 18.5500]\",\"(18.5500, 18.8500]\",\"(18.8500, 19.1500]\",\"(19.1500, 19.4500]\",\"(19.4500, 19.7500]\",\"(19.7500, 19.9500]\",\"(19.9500, 20.1500]\",\"(20.1500, 20.3500]\",\"(20.3500, 20.5500]\",\"(20.5500, 20.8500]\",\"(20.8500, 21.0500]\",\"(21.0500, 21.3500]\",\"(21.3500, 21.6500]\",\"(21.6500, 22.0500]\",\"(22.0500, 22.3500]\",\"(22.3500, 22.5500]\",\"(22.5500, 22.7500]\",\"(22.7500, 23.0500]\",\"(23.0500, 23.4500]\",\"(23.4500, 23.8500]\",\"(23.8500, 24.2500]\",\"(24.2500, 24.5500]\",\"(24.5500, 24.9500]\",\"(24.9500, 25.5000]\",\"(25.5000, 25.9500]\",\"(25.9500, 26.6500]\",\"(26.6500, 27.7500]\",\"(27.7500, +inf)\"],\"tickvals\":[0,1,2,3,4,5,6,7,8,9,10,11,12,13,14,15,16,17,18,19,20,21,22,23,24,25,26,27,28,29,30,31,32,33,34,35,36,37,38,39,40,41,42,43,44,45,46,47,48,49,50,51,52,53,54,55,56,57,58,59,60,61,62,63,64,65,66,67,68,69,70,71,72,73,74,75,76,77,78,79,80,81,82,83,84,85,86,87,88,89,90,91,92,93,94,95,96,97,98,99,100,101,102,103,104,105,106,107,108,109,110,111,112,113,114,115,116,117,118,119,120,121,122,123,124,125,126,127,128],\"title\":{\"text\":\"Bins\"}}}],\"label\":\"T\",\"method\":\"update\"}],\"direction\":\"down\",\"pad\":{\"r\":10,\"t\":10},\"showactive\":true,\"x\":0.25,\"xanchor\":\"left\",\"y\":1.09,\"yanchor\":\"top\"}],\"xaxis\":{\"showticklabels\":false,\"tickmode\":\"array\",\"ticktext\":[\"(-inf, -19.5000]\",\"(-19.5000, -14.2500]\",\"(-14.2500, -11.9500]\",\"(-11.9500, -10.4500]\",\"(-10.4500, -9.0000]\",\"(-9.0000, -8.5500]\",\"(-8.5500, -7.9500]\",\"(-7.9500, -7.3000]\",\"(-7.3000, -6.6500]\",\"(-6.6500, -6.1500]\",\"(-6.1500, -5.4500]\",\"(-5.4500, -5.0500]\",\"(-5.0500, -4.8500]\",\"(-4.8500, -4.2500]\",\"(-4.2500, -3.9500]\",\"(-3.9500, -3.6500]\",\"(-3.6500, -3.2500]\",\"(-3.2500, -2.9500]\",\"(-2.9500, -2.8500]\",\"(-2.8500, -2.6500]\",\"(-2.6500, -2.5500]\",\"(-2.5500, -2.3500]\",\"(-2.3500, -2.1500]\",\"(-2.1500, -1.9500]\",\"(-1.9500, -1.7500]\",\"(-1.7500, -1.5500]\",\"(-1.5500, -1.4500]\",\"(-1.4500, -1.2500]\",\"(-1.2500, -1.0500]\",\"(-1.0500, -0.8500]\",\"(-0.8500, -0.6500]\",\"(-0.6500, -0.4500]\",\"(-0.4500, -0.1500]\",\"(-0.1500, 0.0500]\",\"(0.0500, 0.2500]\",\"(0.2500, 0.4500]\",\"(0.4500, 0.6500]\",\"(0.6500, 0.9500]\",\"(0.9500, 1.1500]\",\"(1.1500, 1.3500]\",\"(1.3500, 1.6500]\",\"(1.6500, 2.1500]\",\"(2.1500, 2.6500]\",\"(2.6500, 2.8500]\",\"(2.8500, 3.3500]\",\"(3.3500, 3.7000]\",\"(3.7000, 4.3500]\",\"(4.3500, 4.7500]\",\"(4.7500, 5.4500]\",\"(5.4500, 5.7500]\",\"(5.7500, 6.1500]\",\"(6.1500, 6.4500]\",\"(6.4500, 6.6500]\",\"(6.6500, 6.9500]\",\"(6.9500, 7.2500]\",\"(7.2500, 7.5500]\",\"(7.5500, 7.8500]\",\"(7.8500, 8.1500]\",\"(8.1500, 8.3500]\",\"(8.3500, 8.7500]\",\"(8.7500, 8.9500]\",\"(8.9500, 9.2500]\",\"(9.2500, 9.4500]\",\"(9.4500, 9.7500]\",\"(9.7500, 9.9500]\",\"(9.9500, 10.2500]\",\"(10.2500, 10.3500]\",\"(10.3500, 10.6500]\",\"(10.6500, 10.9500]\",\"(10.9500, 11.1500]\",\"(11.1500, 11.4500]\",\"(11.4500, 11.6500]\",\"(11.6500, 11.8500]\",\"(11.8500, 12.2500]\",\"(12.2500, 12.4500]\",\"(12.4500, 12.6500]\",\"(12.6500, 12.8500]\",\"(12.8500, 13.1500]\",\"(13.1500, 13.3500]\",\"(13.3500, 13.5500]\",\"(13.5500, 13.7500]\",\"(13.7500, 13.9500]\",\"(13.9500, 14.2500]\",\"(14.2500, 14.4500]\",\"(14.4500, 14.6500]\",\"(14.6500, 14.8500]\",\"(14.8500, 15.1500]\",\"(15.1500, 15.4500]\",\"(15.4500, 15.6500]\",\"(15.6500, 15.8500]\",\"(15.8500, 16.1500]\",\"(16.1500, 16.3500]\",\"(16.3500, 16.5500]\",\"(16.5500, 16.8500]\",\"(16.8500, 17.0500]\",\"(17.0500, 17.2500]\",\"(17.2500, 17.5500]\",\"(17.5500, 17.7500]\",\"(17.7500, 17.9500]\",\"(17.9500, 18.1500]\",\"(18.1500, 18.3500]\",\"(18.3500, 18.5500]\",\"(18.5500, 18.8500]\",\"(18.8500, 19.1500]\",\"(19.1500, 19.4500]\",\"(19.4500, 19.7500]\",\"(19.7500, 19.9500]\",\"(19.9500, 20.1500]\",\"(20.1500, 20.3500]\",\"(20.3500, 20.5500]\",\"(20.5500, 20.8500]\",\"(20.8500, 21.0500]\",\"(21.0500, 21.3500]\",\"(21.3500, 21.6500]\",\"(21.6500, 22.0500]\",\"(22.0500, 22.3500]\",\"(22.3500, 22.5500]\",\"(22.5500, 22.7500]\",\"(22.7500, 23.0500]\",\"(23.0500, 23.4500]\",\"(23.4500, 23.8500]\",\"(23.8500, 24.2500]\",\"(24.2500, 24.5500]\",\"(24.5500, 24.9500]\",\"(24.9500, 25.5000]\",\"(25.5000, 25.9500]\",\"(25.9500, 26.6500]\",\"(26.6500, 27.7500]\",\"(27.7500, +inf)\"],\"tickvals\":[0,1,2,3,4,5,6,7,8,9,10,11,12,13,14,15,16,17,18,19,20,21,22,23,24,25,26,27,28,29,30,31,32,33,34,35,36,37,38,39,40,41,42,43,44,45,46,47,48,49,50,51,52,53,54,55,56,57,58,59,60,61,62,63,64,65,66,67,68,69,70,71,72,73,74,75,76,77,78,79,80,81,82,83,84,85,86,87,88,89,90,91,92,93,94,95,96,97,98,99,100,101,102,103,104,105,106,107,108,109,110,111,112,113,114,115,116,117,118,119,120,121,122,123,124,125,126,127,128],\"title\":{\"text\":\"Bins\"}},\"yaxis\":{\"overlaying\":\"y2\",\"side\":\"left\",\"title\":{\"text\":\"Prediction and target\"}},\"yaxis2\":{\"position\":1.0,\"side\":\"right\",\"title\":{\"text\":\"Objects per bin\"}}},                        {\"responsive\": true}                    ).then(function(){\n                            \nvar gd = document.getElementById('3601bd3e-f8ef-48df-9559-961183a895ec');\nvar x = new MutationObserver(function (mutations, observer) {{\n        var display = window.getComputedStyle(gd).display;\n        if (!display || display === 'none') {{\n            console.log([gd, 'removed!']);\n            Plotly.purge(gd);\n            observer.disconnect();\n        }}\n}});\n\n// Listen for the removal of the full notebook cells\nvar notebookContainer = gd.closest('#notebook-container');\nif (notebookContainer) {{\n    x.observe(notebookContainer, {childList: true});\n}}\n\n// Listen for the clearing of the current output cell\nvar outputEl = gd.closest('.output');\nif (outputEl) {{\n    x.observe(outputEl, {childList: true});\n}}\n\n                        })                };                });            </script>        </div>"
     },
     "metadata": {},
     "output_type": "display_data"
    }
   ],
   "source": [
    "import numpy as np\n",
    "print(X_test.columns)\n",
    "res = model.calc_feature_statistics(X_test,\n",
    "                                    y_test,feature=[\"T\"], plot_file=\"/tmp/out.html\")\n"
   ],
   "metadata": {
    "collapsed": false,
    "ExecuteTime": {
     "end_time": "2023-08-25T11:01:29.430160320Z",
     "start_time": "2023-08-25T11:01:29.257542058Z"
    }
   },
   "id": "46b7bb66d80616a6"
  },
  {
   "cell_type": "code",
   "execution_count": null,
   "outputs": [],
   "source": [],
   "metadata": {
    "collapsed": false
   },
   "id": "1ddf47d14e39bad1"
  }
 ],
 "metadata": {
  "kernelspec": {
   "display_name": "Python 3 (ipykernel)",
   "language": "python",
   "name": "python3"
  },
  "language_info": {
   "codemirror_mode": {
    "name": "ipython",
    "version": 3
   },
   "file_extension": ".py",
   "mimetype": "text/x-python",
   "name": "python",
   "nbconvert_exporter": "python",
   "pygments_lexer": "ipython3",
   "version": "3.11.3"
  }
 },
 "nbformat": 4,
 "nbformat_minor": 5
}
