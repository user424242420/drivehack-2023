{
 "cells": [
  {
   "cell_type": "code",
   "execution_count": 1,
   "id": "d481dd92",
   "metadata": {
    "execution": {
     "iopub.execute_input": "2023-08-24T16:34:52.217006Z",
     "iopub.status.busy": "2023-08-24T16:34:52.216589Z",
     "iopub.status.idle": "2023-08-24T16:34:54.622515Z",
     "shell.execute_reply": "2023-08-24T16:34:54.621511Z"
    },
    "papermill": {
     "duration": 2.416349,
     "end_time": "2023-08-24T16:34:54.625337",
     "exception": false,
     "start_time": "2023-08-24T16:34:52.208988",
     "status": "completed"
    },
    "tags": [],
    "ExecuteTime": {
     "end_time": "2023-08-24T21:16:26.818244117Z",
     "start_time": "2023-08-24T21:16:23.373500111Z"
    }
   },
   "outputs": [],
   "source": [
    "import sklearn\n",
    "import pandas\n",
    "from sklearn.model_selection import train_test_split\n",
    "import numpy as np\n",
    "\n",
    "\n",
    "df_bandwidth_full = pandas.read_csv(\"../data/dataset_small_changed.csv\").drop([\"Unnamed: 0\"], axis=1)\n",
    "\n",
    "df_bandwidth_full = df_bandwidth_full[(df_bandwidth_full[\"hour\"] >= 6) | (df_bandwidth_full[\"hour\"] <= 1)]\n",
    "res_series = df_bandwidth_full[\"num_val\"]\n",
    "\n",
    "df_bandwidth = df_bandwidth_full.drop([\"num_val\"], axis=1)\n",
    "X_train, X_test, y_train, y_test = train_test_split(df_bandwidth, res_series, test_size=0.2, random_state=0)"
   ]
  },
  {
   "cell_type": "code",
   "execution_count": 18,
   "id": "187c3ccb",
   "metadata": {
    "execution": {
     "iopub.execute_input": "2023-08-24T16:34:54.683153Z",
     "iopub.status.busy": "2023-08-24T16:34:54.682836Z",
     "iopub.status.idle": "2023-08-24T16:34:55.082405Z",
     "shell.execute_reply": "2023-08-24T16:34:55.081425Z"
    },
    "papermill": {
     "duration": 0.407484,
     "end_time": "2023-08-24T16:34:55.085126",
     "exception": false,
     "start_time": "2023-08-24T16:34:54.677642",
     "status": "completed"
    },
    "tags": [],
    "ExecuteTime": {
     "end_time": "2023-08-24T21:16:09.670323130Z",
     "start_time": "2023-08-24T21:16:09.628098507Z"
    }
   },
   "outputs": [],
   "source": [
    "from catboost import CatBoostRegressor\n",
    "\n",
    "\n",
    "model = CatBoostRegressor(\n",
    "    iterations=200,\n",
    "    learning_rate=0.03,\n",
    "    task_type='GPU',\n",
    "    devices='0',\n",
    "    verbose=200\n",
    ")\n",
    "  \n",
    "\n",
    "\n"
   ]
  },
  {
   "cell_type": "code",
   "execution_count": 12,
   "outputs": [
    {
     "data": {
      "text/plain": "MetricVisualizer(layout=Layout(align_self='stretch', height='500px'))",
      "application/vnd.jupyter.widget-view+json": {
       "version_major": 2,
       "version_minor": 0,
       "model_id": "c4b85362add04a3ea5a2f25bd7164e91"
      }
     },
     "metadata": {},
     "output_type": "display_data"
    },
    {
     "data": {
      "text/plain": "<catboost.core.CatBoostRegressor at 0x7f4769fc44f0>"
     },
     "execution_count": 12,
     "metadata": {},
     "output_type": "execute_result"
    }
   ],
   "source": [
    "model.fit(X_train,y_train,verbose=False, plot=True)"
   ],
   "metadata": {
    "collapsed": false,
    "ExecuteTime": {
     "end_time": "2023-08-24T21:13:30.702332810Z",
     "start_time": "2023-08-24T21:13:28.311548444Z"
    }
   }
  },
  {
   "cell_type": "code",
   "execution_count": null,
   "id": "3e8e7675",
   "metadata": {
    "execution": {
     "iopub.execute_input": "2023-08-24T16:34:55.096261Z",
     "iopub.status.busy": "2023-08-24T16:34:55.094808Z",
     "iopub.status.idle": "2023-08-24T16:35:05.285370Z",
     "shell.execute_reply": "2023-08-24T16:35:05.283835Z"
    },
    "papermill": {
     "duration": 10.198496,
     "end_time": "2023-08-24T16:35:05.287966",
     "exception": false,
     "start_time": "2023-08-24T16:34:55.089470",
     "status": "completed"
    },
    "tags": [],
    "is_executing": true,
    "ExecuteTime": {
     "start_time": "2023-08-24T21:17:08.627989637Z"
    }
   },
   "outputs": [
    {
     "data": {
      "text/plain": "MetricVisualizer(layout=Layout(align_self='stretch', height='500px'))",
      "application/vnd.jupyter.widget-view+json": {
       "version_major": 2,
       "version_minor": 0,
       "model_id": "427f2ead919e436ab4bf14f3815230b0"
      }
     },
     "metadata": {},
     "output_type": "display_data"
    },
    {
     "name": "stdout",
     "output_type": "stream",
     "text": [
      "Training on fold [0/3]\n"
     ]
    }
   ],
   "source": [
    "from catboost import Pool, cv\n",
    "params = {\"iterations\": 2000,\n",
    "          \"depth\": 15,\n",
    "          \"loss_function\": \"RMSE\",\n",
    "          \"task_type\": \"GPU\",\n",
    "          \"devices\": \"0\",\n",
    "          \"verbose\": False}\n",
    "cv_dataset = Pool(data=X_train,\n",
    "                  label=y_train)\n",
    "scores = cv(cv_dataset,\n",
    "            params,\n",
    "            fold_count=3,\n",
    "            plot=\"True\")\n",
    "scores.plot()"
   ]
  },
  {
   "cell_type": "code",
   "execution_count": 4,
   "id": "89f4928a",
   "metadata": {
    "execution": {
     "iopub.execute_input": "2023-08-24T16:35:05.307159Z",
     "iopub.status.busy": "2023-08-24T16:35:05.306824Z",
     "iopub.status.idle": "2023-08-24T16:35:05.388493Z",
     "shell.execute_reply": "2023-08-24T16:35:05.387455Z"
    },
    "papermill": {
     "duration": 0.096237,
     "end_time": "2023-08-24T16:35:05.391547",
     "exception": false,
     "start_time": "2023-08-24T16:35:05.295310",
     "status": "completed"
    },
    "tags": []
   },
   "outputs": [],
   "source": [
    "predicted_test = model.predict(X_test)"
   ]
  },
  {
   "cell_type": "code",
   "execution_count": 5,
   "id": "5691594f",
   "metadata": {
    "execution": {
     "iopub.execute_input": "2023-08-24T16:35:05.412668Z",
     "iopub.status.busy": "2023-08-24T16:35:05.412241Z",
     "iopub.status.idle": "2023-08-24T16:35:05.464545Z",
     "shell.execute_reply": "2023-08-24T16:35:05.463436Z"
    },
    "papermill": {
     "duration": 0.067568,
     "end_time": "2023-08-24T16:35:05.466870",
     "exception": false,
     "start_time": "2023-08-24T16:35:05.399302",
     "status": "completed"
    },
    "tags": []
   },
   "outputs": [
    {
     "name": "stdout",
     "output_type": "stream",
     "text": [
      "0.6489798802185052\n"
     ]
    }
   ],
   "source": [
    "from sklearn.metrics import r2_score, mean_squared_error\n",
    "import numpy as np\n",
    "\n",
    "score= np.sqrt(r2_score(y_test.to_list(), predicted_test))\n",
    "print(score)"
   ]
  },
  {
   "cell_type": "code",
   "execution_count": 6,
   "id": "479643dc",
   "metadata": {
    "execution": {
     "iopub.execute_input": "2023-08-24T16:35:05.485415Z",
     "iopub.status.busy": "2023-08-24T16:35:05.485061Z",
     "iopub.status.idle": "2023-08-24T16:35:05.527202Z",
     "shell.execute_reply": "2023-08-24T16:35:05.526045Z"
    },
    "papermill": {
     "duration": 0.056282,
     "end_time": "2023-08-24T16:35:05.529421",
     "exception": false,
     "start_time": "2023-08-24T16:35:05.473139",
     "status": "completed"
    },
    "tags": []
   },
   "outputs": [
    {
     "name": "stdout",
     "output_type": "stream",
     "text": [
      "8845.557936391095\n"
     ]
    }
   ],
   "source": [
    "from sklearn.metrics import max_error\n",
    "\n",
    "score= max_error(predicted_test, y_test.to_list())\n",
    "print(score)"
   ]
  },
  {
   "cell_type": "code",
   "execution_count": null,
   "id": "e6b6a317",
   "metadata": {
    "papermill": {
     "duration": 0.011081,
     "end_time": "2023-08-24T16:35:05.546298",
     "exception": false,
     "start_time": "2023-08-24T16:35:05.535217",
     "status": "completed"
    },
    "tags": []
   },
   "outputs": [],
   "source": []
  }
 ],
 "metadata": {
  "kernelspec": {
   "display_name": "Python 3",
   "language": "python",
   "name": "python3"
  },
  "language_info": {
   "codemirror_mode": {
    "name": "ipython",
    "version": 3
   },
   "file_extension": ".py",
   "mimetype": "text/x-python",
   "name": "python",
   "nbconvert_exporter": "python",
   "pygments_lexer": "ipython3",
   "version": "3.10.12"
  },
  "papermill": {
   "default_parameters": {},
   "duration": 24.650664,
   "end_time": "2023-08-24T16:35:06.683679",
   "environment_variables": {},
   "exception": null,
   "input_path": "__notebook__.ipynb",
   "output_path": "__notebook__.ipynb",
   "parameters": {},
   "start_time": "2023-08-24T16:34:42.033015",
   "version": "2.4.0"
  }
 },
 "nbformat": 4,
 "nbformat_minor": 5
}
